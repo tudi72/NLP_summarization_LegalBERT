{
 "cells": [
  {
   "cell_type": "code",
   "execution_count": 1,
   "metadata": {
    "execution": {
     "iopub.execute_input": "2024-12-16T14:31:30.852553Z",
     "iopub.status.busy": "2024-12-16T14:31:30.851655Z",
     "iopub.status.idle": "2024-12-16T14:31:56.702957Z",
     "shell.execute_reply": "2024-12-16T14:31:56.702146Z",
     "shell.execute_reply.started": "2024-12-16T14:31:30.852511Z"
    },
    "trusted": true
   },
   "outputs": [
    {
     "name": "stdout",
     "output_type": "stream",
     "text": [
      "\u001b[31mERROR: pip's dependency resolver does not currently take into account all the packages that are installed. This behaviour is the source of the following dependency conflicts.\n",
      "cudf 24.10.1 requires cubinlinker, which is not installed.\n",
      "cudf 24.10.1 requires cupy-cuda11x>=12.0.0, which is not installed.\n",
      "cudf 24.10.1 requires libcudf==24.10.*, which is not installed.\n",
      "cudf 24.10.1 requires ptxcompiler, which is not installed.\n",
      "cuml 24.10.0 requires cupy-cuda11x>=12.0.0, which is not installed.\n",
      "cuml 24.10.0 requires cuvs==24.10.*, which is not installed.\n",
      "cuml 24.10.0 requires nvidia-cublas, which is not installed.\n",
      "cuml 24.10.0 requires nvidia-cufft, which is not installed.\n",
      "cuml 24.10.0 requires nvidia-curand, which is not installed.\n",
      "cuml 24.10.0 requires nvidia-cusolver, which is not installed.\n",
      "cuml 24.10.0 requires nvidia-cusparse, which is not installed.\n",
      "dask-cudf 24.10.1 requires cupy-cuda11x>=12.0.0, which is not installed.\n",
      "beatrix-jupyterlab 2024.66.154055 requires jupyterlab~=3.6.0, but you have jupyterlab 4.3.1 which is incompatible.\n",
      "conda 24.5.0 requires packaging>=23.0, but you have packaging 21.3 which is incompatible.\n",
      "cudf 24.10.1 requires cuda-python<12.0a0,>=11.7.1, but you have cuda-python 12.6.2.post1 which is incompatible.\n",
      "cudf 24.10.1 requires pandas<2.2.3dev0,>=2.0, but you have pandas 2.2.3 which is incompatible.\n",
      "dask-cudf 24.10.1 requires pandas<2.2.3dev0,>=2.0, but you have pandas 2.2.3 which is incompatible.\n",
      "ibis-framework 7.1.0 requires pyarrow<15,>=2, but you have pyarrow 17.0.0 which is incompatible.\n",
      "ydata-profiling 4.12.0 requires scipy<1.14,>=1.4.1, but you have scipy 1.14.1 which is incompatible.\u001b[0m\u001b[31m\n",
      "\u001b[0m"
     ]
    }
   ],
   "source": [
    "!pip install --quiet bitnet"
   ]
  },
  {
   "cell_type": "code",
   "execution_count": null,
   "metadata": {
    "execution": {
     "iopub.execute_input": "2024-12-16T14:31:56.705090Z",
     "iopub.status.busy": "2024-12-16T14:31:56.704800Z",
     "iopub.status.idle": "2024-12-16T14:31:56.709548Z",
     "shell.execute_reply": "2024-12-16T14:31:56.708770Z",
     "shell.execute_reply.started": "2024-12-16T14:31:56.705065Z"
    },
    "trusted": true
   },
   "outputs": [],
   "source": [
    "from API import WANDB_TOKEN, HP_TOKEN\n",
    "DATASET           = \"dennlinger/eur-lex-sum\"\n",
    "model_name        = \"MikaSie/LegalBERT_BART_fixed_V1\"\n",
    "CONTEXT_LENGTH    = 256"
   ]
  },
  {
   "cell_type": "code",
   "execution_count": 3,
   "metadata": {
    "execution": {
     "iopub.execute_input": "2024-12-16T14:31:56.711138Z",
     "iopub.status.busy": "2024-12-16T14:31:56.710831Z",
     "iopub.status.idle": "2024-12-16T15:25:18.998284Z",
     "shell.execute_reply": "2024-12-16T15:25:18.997332Z",
     "shell.execute_reply.started": "2024-12-16T14:31:56.711113Z"
    },
    "trusted": true
   },
   "outputs": [
    {
     "name": "stderr",
     "output_type": "stream",
     "text": [
      "\u001b[32m2024-12-16 14:32:14.646\u001b[0m | \u001b[1mINFO    \u001b[0m | \u001b[36mzeta.nn.modules.flow_transformer\u001b[0m:\u001b[36m__init__\u001b[0m:\u001b[36m221\u001b[0m - \u001b[1mInitializing Flow Transformer with config: FlowTransformerConfig(dim=512, heads=8, depth=6, seq_length=1024, flow_hidden_dim=128, flow_steps=4, dropout=0.1, attention_dropout=0.1, learning_rate=0.0001, vocab_size=50000, weight_decay=0.01, warmup_steps=10000, max_steps=100000, batch_size=32, checkpoint_interval=1000, device=device(type='cuda'))\u001b[0m\n",
      "\u001b[32m2024-12-16 14:32:14.938\u001b[0m | \u001b[34m\u001b[1mDEBUG   \u001b[0m | \u001b[36mzeta.nn.modules.flow_transformer\u001b[0m:\u001b[36m__init__\u001b[0m:\u001b[36m74\u001b[0m - \u001b[34m\u001b[1mInitialized FlowMLP with architecture: Sequential(\n",
      "  (0): Linear(in_features=512, out_features=128, bias=True)\n",
      "  (1): LayerNorm((128,), eps=1e-05, elementwise_affine=True)\n",
      "  (2): GELU(approximate='none')\n",
      "  (3): Linear(in_features=128, out_features=128, bias=True)\n",
      "  (4): LayerNorm((128,), eps=1e-05, elementwise_affine=True)\n",
      "  (5): GELU(approximate='none')\n",
      "  (6): Linear(in_features=128, out_features=512, bias=True)\n",
      ")\u001b[0m\n",
      "\u001b[32m2024-12-16 14:32:14.959\u001b[0m | \u001b[34m\u001b[1mDEBUG   \u001b[0m | \u001b[36mzeta.nn.modules.flow_transformer\u001b[0m:\u001b[36m__init__\u001b[0m:\u001b[36m74\u001b[0m - \u001b[34m\u001b[1mInitialized FlowMLP with architecture: Sequential(\n",
      "  (0): Linear(in_features=512, out_features=128, bias=True)\n",
      "  (1): LayerNorm((128,), eps=1e-05, elementwise_affine=True)\n",
      "  (2): GELU(approximate='none')\n",
      "  (3): Linear(in_features=128, out_features=128, bias=True)\n",
      "  (4): LayerNorm((128,), eps=1e-05, elementwise_affine=True)\n",
      "  (5): GELU(approximate='none')\n",
      "  (6): Linear(in_features=128, out_features=512, bias=True)\n",
      ")\u001b[0m\n",
      "\u001b[32m2024-12-16 14:32:14.981\u001b[0m | \u001b[34m\u001b[1mDEBUG   \u001b[0m | \u001b[36mzeta.nn.modules.flow_transformer\u001b[0m:\u001b[36m__init__\u001b[0m:\u001b[36m74\u001b[0m - \u001b[34m\u001b[1mInitialized FlowMLP with architecture: Sequential(\n",
      "  (0): Linear(in_features=512, out_features=128, bias=True)\n",
      "  (1): LayerNorm((128,), eps=1e-05, elementwise_affine=True)\n",
      "  (2): GELU(approximate='none')\n",
      "  (3): Linear(in_features=128, out_features=128, bias=True)\n",
      "  (4): LayerNorm((128,), eps=1e-05, elementwise_affine=True)\n",
      "  (5): GELU(approximate='none')\n",
      "  (6): Linear(in_features=128, out_features=512, bias=True)\n",
      ")\u001b[0m\n",
      "\u001b[32m2024-12-16 14:32:15.002\u001b[0m | \u001b[34m\u001b[1mDEBUG   \u001b[0m | \u001b[36mzeta.nn.modules.flow_transformer\u001b[0m:\u001b[36m__init__\u001b[0m:\u001b[36m74\u001b[0m - \u001b[34m\u001b[1mInitialized FlowMLP with architecture: Sequential(\n",
      "  (0): Linear(in_features=512, out_features=128, bias=True)\n",
      "  (1): LayerNorm((128,), eps=1e-05, elementwise_affine=True)\n",
      "  (2): GELU(approximate='none')\n",
      "  (3): Linear(in_features=128, out_features=128, bias=True)\n",
      "  (4): LayerNorm((128,), eps=1e-05, elementwise_affine=True)\n",
      "  (5): GELU(approximate='none')\n",
      "  (6): Linear(in_features=128, out_features=512, bias=True)\n",
      ")\u001b[0m\n",
      "\u001b[32m2024-12-16 14:32:15.023\u001b[0m | \u001b[34m\u001b[1mDEBUG   \u001b[0m | \u001b[36mzeta.nn.modules.flow_transformer\u001b[0m:\u001b[36m__init__\u001b[0m:\u001b[36m74\u001b[0m - \u001b[34m\u001b[1mInitialized FlowMLP with architecture: Sequential(\n",
      "  (0): Linear(in_features=512, out_features=128, bias=True)\n",
      "  (1): LayerNorm((128,), eps=1e-05, elementwise_affine=True)\n",
      "  (2): GELU(approximate='none')\n",
      "  (3): Linear(in_features=128, out_features=128, bias=True)\n",
      "  (4): LayerNorm((128,), eps=1e-05, elementwise_affine=True)\n",
      "  (5): GELU(approximate='none')\n",
      "  (6): Linear(in_features=128, out_features=512, bias=True)\n",
      ")\u001b[0m\n",
      "\u001b[32m2024-12-16 14:32:15.044\u001b[0m | \u001b[34m\u001b[1mDEBUG   \u001b[0m | \u001b[36mzeta.nn.modules.flow_transformer\u001b[0m:\u001b[36m__init__\u001b[0m:\u001b[36m74\u001b[0m - \u001b[34m\u001b[1mInitialized FlowMLP with architecture: Sequential(\n",
      "  (0): Linear(in_features=512, out_features=128, bias=True)\n",
      "  (1): LayerNorm((128,), eps=1e-05, elementwise_affine=True)\n",
      "  (2): GELU(approximate='none')\n",
      "  (3): Linear(in_features=128, out_features=128, bias=True)\n",
      "  (4): LayerNorm((128,), eps=1e-05, elementwise_affine=True)\n",
      "  (5): GELU(approximate='none')\n",
      "  (6): Linear(in_features=128, out_features=512, bias=True)\n",
      ")\u001b[0m\n"
     ]
    },
    {
     "name": "stdout",
     "output_type": "stream",
     "text": [
      "Input shape: torch.Size([4, 512])\n",
      "Output shape: torch.Size([4, 512, 50000])\n",
      "Predictions shape: torch.Size([4, 512])\n"
     ]
    },
    {
     "name": "stderr",
     "output_type": "stream",
     "text": [
      "\u001b[34m\u001b[1mwandb\u001b[0m: Using wandb-core as the SDK backend.  Please refer to https://wandb.me/wandb-core for more information.\n",
      "\u001b[34m\u001b[1mwandb\u001b[0m: Logging into wandb.ai. (Learn how to deploy a W&B server locally: https://wandb.me/wandb-server)\n",
      "\u001b[34m\u001b[1mwandb\u001b[0m: You can find your API key in your browser here: https://wandb.ai/authorize\n",
      "\u001b[34m\u001b[1mwandb\u001b[0m: Paste an API key from your profile and hit enter, or press ctrl+c to quit:"
     ]
    },
    {
     "name": "stdout",
     "output_type": "stream",
     "text": [
      "  ········\n"
     ]
    },
    {
     "name": "stderr",
     "output_type": "stream",
     "text": [
      "\u001b[34m\u001b[1mwandb\u001b[0m: Appending key for api.wandb.ai to your netrc file: /root/.netrc\n"
     ]
    },
    {
     "data": {
      "text/html": [
       "Tracking run with wandb version 0.18.7"
      ],
      "text/plain": [
       "<IPython.core.display.HTML object>"
      ]
     },
     "metadata": {},
     "output_type": "display_data"
    },
    {
     "data": {
      "text/html": [
       "Run data is saved locally in <code>/kaggle/working/wandb/run-20241216_143743-80c6f46m</code>"
      ],
      "text/plain": [
       "<IPython.core.display.HTML object>"
      ]
     },
     "metadata": {},
     "output_type": "display_data"
    },
    {
     "data": {
      "text/html": [
       "Syncing run <strong><a href='https://wandb.ai/unibe-tudi/summarization/runs/80c6f46m' target=\"_blank\">LegalBERT_BART_fixed_V1_quantized</a></strong> to <a href='https://wandb.ai/unibe-tudi/summarization' target=\"_blank\">Weights & Biases</a> (<a href='https://wandb.me/developer-guide' target=\"_blank\">docs</a>)<br/>"
      ],
      "text/plain": [
       "<IPython.core.display.HTML object>"
      ]
     },
     "metadata": {},
     "output_type": "display_data"
    },
    {
     "data": {
      "text/html": [
       " View project at <a href='https://wandb.ai/unibe-tudi/summarization' target=\"_blank\">https://wandb.ai/unibe-tudi/summarization</a>"
      ],
      "text/plain": [
       "<IPython.core.display.HTML object>"
      ]
     },
     "metadata": {},
     "output_type": "display_data"
    },
    {
     "data": {
      "text/html": [
       " View run at <a href='https://wandb.ai/unibe-tudi/summarization/runs/80c6f46m' target=\"_blank\">https://wandb.ai/unibe-tudi/summarization/runs/80c6f46m</a>"
      ],
      "text/plain": [
       "<IPython.core.display.HTML object>"
      ]
     },
     "metadata": {},
     "output_type": "display_data"
    },
    {
     "data": {
      "application/vnd.jupyter.widget-view+json": {
       "model_id": "bc628348fb394f03b235e1ca9b4ebfcb",
       "version_major": 2,
       "version_minor": 0
      },
      "text/plain": [
       "tokenizer_config.json:   0%|          | 0.00/1.21k [00:00<?, ?B/s]"
      ]
     },
     "metadata": {},
     "output_type": "display_data"
    },
    {
     "data": {
      "application/vnd.jupyter.widget-view+json": {
       "model_id": "f49ef72ea2bf4fe4907c2f5841159f7b",
       "version_major": 2,
       "version_minor": 0
      },
      "text/plain": [
       "vocab.json:   0%|          | 0.00/798k [00:00<?, ?B/s]"
      ]
     },
     "metadata": {},
     "output_type": "display_data"
    },
    {
     "data": {
      "application/vnd.jupyter.widget-view+json": {
       "model_id": "7d2e01742b484a36a8d91f98dc15e788",
       "version_major": 2,
       "version_minor": 0
      },
      "text/plain": [
       "merges.txt:   0%|          | 0.00/456k [00:00<?, ?B/s]"
      ]
     },
     "metadata": {},
     "output_type": "display_data"
    },
    {
     "data": {
      "application/vnd.jupyter.widget-view+json": {
       "model_id": "da0a0758d9ef4d689f8208a584df7b27",
       "version_major": 2,
       "version_minor": 0
      },
      "text/plain": [
       "tokenizer.json:   0%|          | 0.00/2.11M [00:00<?, ?B/s]"
      ]
     },
     "metadata": {},
     "output_type": "display_data"
    },
    {
     "data": {
      "application/vnd.jupyter.widget-view+json": {
       "model_id": "b0d9b915a9854f579d0adf0814ef7378",
       "version_major": 2,
       "version_minor": 0
      },
      "text/plain": [
       "special_tokens_map.json:   0%|          | 0.00/279 [00:00<?, ?B/s]"
      ]
     },
     "metadata": {},
     "output_type": "display_data"
    },
    {
     "data": {
      "application/vnd.jupyter.widget-view+json": {
       "model_id": "cabf931158244e758101bbd974fd055e",
       "version_major": 2,
       "version_minor": 0
      },
      "text/plain": [
       "config.json:   0%|          | 0.00/1.71k [00:00<?, ?B/s]"
      ]
     },
     "metadata": {},
     "output_type": "display_data"
    },
    {
     "data": {
      "application/vnd.jupyter.widget-view+json": {
       "model_id": "677769c189be424da17a8a97e8857357",
       "version_major": 2,
       "version_minor": 0
      },
      "text/plain": [
       "model.safetensors:   0%|          | 0.00/1.63G [00:00<?, ?B/s]"
      ]
     },
     "metadata": {},
     "output_type": "display_data"
    },
    {
     "data": {
      "application/vnd.jupyter.widget-view+json": {
       "model_id": "a6b3d500dc644b57a70b7ba05a46870d",
       "version_major": 2,
       "version_minor": 0
      },
      "text/plain": [
       "generation_config.json:   0%|          | 0.00/292 [00:00<?, ?B/s]"
      ]
     },
     "metadata": {},
     "output_type": "display_data"
    },
    {
     "name": "stdout",
     "output_type": "stream",
     "text": [
      "Model size before quantization: 406.3M parameters\n",
      "Model size after quantization: 53.7M parameters\n"
     ]
    },
    {
     "data": {
      "application/vnd.jupyter.widget-view+json": {
       "model_id": "ea25425e62ff4e22822fcf31f3160164",
       "version_major": 2,
       "version_minor": 0
      },
      "text/plain": [
       "README.md:   0%|          | 0.00/13.7k [00:00<?, ?B/s]"
      ]
     },
     "metadata": {},
     "output_type": "display_data"
    },
    {
     "data": {
      "application/vnd.jupyter.widget-view+json": {
       "model_id": "f7875360a97e4b24907a9e7e8312c578",
       "version_major": 2,
       "version_minor": 0
      },
      "text/plain": [
       "eur-lex-sum.py:   0%|          | 0.00/4.45k [00:00<?, ?B/s]"
      ]
     },
     "metadata": {},
     "output_type": "display_data"
    },
    {
     "data": {
      "application/vnd.jupyter.widget-view+json": {
       "model_id": "48a5b04fdf8d4a299c57b7578f2993ce",
       "version_major": 2,
       "version_minor": 0
      },
      "text/plain": [
       "train.json:   0%|          | 0.00/93.9M [00:00<?, ?B/s]"
      ]
     },
     "metadata": {},
     "output_type": "display_data"
    },
    {
     "data": {
      "application/vnd.jupyter.widget-view+json": {
       "model_id": "95707c668f064e3699e992092706acfc",
       "version_major": 2,
       "version_minor": 0
      },
      "text/plain": [
       "validation.json:   0%|          | 0.00/24.1M [00:00<?, ?B/s]"
      ]
     },
     "metadata": {},
     "output_type": "display_data"
    },
    {
     "data": {
      "application/vnd.jupyter.widget-view+json": {
       "model_id": "12d31f739416423fbc3ba9b06b242d05",
       "version_major": 2,
       "version_minor": 0
      },
      "text/plain": [
       "test.json:   0%|          | 0.00/24.4M [00:00<?, ?B/s]"
      ]
     },
     "metadata": {},
     "output_type": "display_data"
    },
    {
     "data": {
      "application/vnd.jupyter.widget-view+json": {
       "model_id": "df270292ac0c4c3a96de4638ad30e8a8",
       "version_major": 2,
       "version_minor": 0
      },
      "text/plain": [
       "Generating train split: 0 examples [00:00, ? examples/s]"
      ]
     },
     "metadata": {},
     "output_type": "display_data"
    },
    {
     "data": {
      "application/vnd.jupyter.widget-view+json": {
       "model_id": "b1354a1462fe4ae1a6329563557e7886",
       "version_major": 2,
       "version_minor": 0
      },
      "text/plain": [
       "Generating validation split: 0 examples [00:00, ? examples/s]"
      ]
     },
     "metadata": {},
     "output_type": "display_data"
    },
    {
     "data": {
      "application/vnd.jupyter.widget-view+json": {
       "model_id": "675de5fdcd794bb2b6f6849023073f20",
       "version_major": 2,
       "version_minor": 0
      },
      "text/plain": [
       "Generating test split: 0 examples [00:00, ? examples/s]"
      ]
     },
     "metadata": {},
     "output_type": "display_data"
    },
    {
     "name": "stderr",
     "output_type": "stream",
     "text": [
      " 44%|████▎     | 82/188 [20:32<26:14, 14.86s/it]\u001b[34m\u001b[1mwandb\u001b[0m: \u001b[33mWARNING\u001b[0m Skipped uploading summary data that exceeded size limit (10668873 > 10383360).\n",
      " 46%|████▌     | 86/188 [21:32<25:38, 15.09s/it]\u001b[34m\u001b[1mwandb\u001b[0m: \u001b[33mWARNING\u001b[0m Skipped uploading summary data that exceeded size limit (11061235 > 10383360).\n",
      " 48%|████▊     | 90/188 [22:31<24:10, 14.81s/it]\u001b[34m\u001b[1mwandb\u001b[0m: \u001b[33mWARNING\u001b[0m Skipped uploading summary data that exceeded size limit (11461937 > 10383360).\n",
      " 50%|█████     | 94/188 [23:30<22:59, 14.68s/it]\u001b[34m\u001b[1mwandb\u001b[0m: \u001b[33mWARNING\u001b[0m Skipped uploading summary data that exceeded size limit (11770610 > 10383360).\n",
      " 54%|█████▎    | 101/188 [25:13<21:16, 14.68s/it]\u001b[34m\u001b[1mwandb\u001b[0m: \u001b[33mWARNING\u001b[0m Skipped uploading summary data that exceeded size limit (12169306 > 10383360).\n",
      " 56%|█████▌    | 105/188 [26:12<20:20, 14.71s/it]\u001b[34m\u001b[1mwandb\u001b[0m: \u001b[33mWARNING\u001b[0m Skipped uploading summary data that exceeded size limit (12410375 > 10383360).\n",
      " 58%|█████▊    | 109/188 [27:10<19:23, 14.73s/it]\u001b[34m\u001b[1mwandb\u001b[0m: \u001b[33mWARNING\u001b[0m Skipped uploading summary data that exceeded size limit (12702269 > 10383360).\n",
      " 60%|██████    | 113/188 [28:09<18:22, 14.70s/it]\u001b[34m\u001b[1mwandb\u001b[0m: \u001b[33mWARNING\u001b[0m Skipped uploading summary data that exceeded size limit (13123513 > 10383360).\n",
      " 64%|██████▍   | 120/188 [29:52<16:41, 14.72s/it]\u001b[34m\u001b[1mwandb\u001b[0m: \u001b[33mWARNING\u001b[0m Skipped uploading summary data that exceeded size limit (13617229 > 10383360).\n",
      " 66%|██████▌   | 124/188 [30:51<15:37, 14.65s/it]\u001b[34m\u001b[1mwandb\u001b[0m: \u001b[33mWARNING\u001b[0m Skipped uploading summary data that exceeded size limit (13970412 > 10383360).\n",
      " 68%|██████▊   | 128/188 [31:49<14:40, 14.67s/it]\u001b[34m\u001b[1mwandb\u001b[0m: \u001b[33mWARNING\u001b[0m Skipped uploading summary data that exceeded size limit (14183704 > 10383360).\n",
      " 71%|███████▏  | 134/188 [33:22<14:16, 15.85s/it]\u001b[34m\u001b[1mwandb\u001b[0m: \u001b[33mWARNING\u001b[0m Skipped uploading summary data that exceeded size limit (17789018 > 10383360).\n",
      " 73%|███████▎  | 138/188 [34:23<12:41, 15.24s/it]\u001b[34m\u001b[1mwandb\u001b[0m: \u001b[33mWARNING\u001b[0m Skipped uploading summary data that exceeded size limit (18719023 > 10383360).\n",
      " 76%|███████▌  | 143/188 [35:37<11:10, 14.91s/it]\u001b[34m\u001b[1mwandb\u001b[0m: \u001b[33mWARNING\u001b[0m Skipped uploading summary data that exceeded size limit (19100267 > 10383360).\n",
      " 78%|███████▊  | 147/188 [36:36<10:08, 14.84s/it]\u001b[34m\u001b[1mwandb\u001b[0m: \u001b[33mWARNING\u001b[0m Skipped uploading summary data that exceeded size limit (19698737 > 10383360).\n",
      " 80%|████████  | 151/188 [37:36<09:07, 14.79s/it]\u001b[34m\u001b[1mwandb\u001b[0m: \u001b[33mWARNING\u001b[0m Skipped uploading summary data that exceeded size limit (20343442 > 10383360).\n",
      " 82%|████████▏ | 155/188 [38:34<08:04, 14.67s/it]\u001b[34m\u001b[1mwandb\u001b[0m: \u001b[33mWARNING\u001b[0m Skipped uploading summary data that exceeded size limit (20692650 > 10383360).\n",
      " 85%|████████▍ | 159/188 [39:33<07:07, 14.72s/it]\u001b[34m\u001b[1mwandb\u001b[0m: \u001b[33mWARNING\u001b[0m Skipped uploading summary data that exceeded size limit (20865278 > 10383360).\n",
      " 87%|████████▋ | 164/188 [40:48<05:56, 14.84s/it]\u001b[34m\u001b[1mwandb\u001b[0m: \u001b[33mWARNING\u001b[0m Skipped uploading summary data that exceeded size limit (21246681 > 10383360).\n",
      " 89%|████████▉ | 168/188 [41:47<04:54, 14.73s/it]\u001b[34m\u001b[1mwandb\u001b[0m: \u001b[33mWARNING\u001b[0m Skipped uploading summary data that exceeded size limit (21805333 > 10383360).\n",
      " 91%|█████████▏| 172/188 [42:46<03:55, 14.71s/it]\u001b[34m\u001b[1mwandb\u001b[0m: \u001b[33mWARNING\u001b[0m Skipped uploading summary data that exceeded size limit (22391362 > 10383360).\n",
      " 94%|█████████▎| 176/188 [43:44<02:56, 14.72s/it]\u001b[34m\u001b[1mwandb\u001b[0m: \u001b[33mWARNING\u001b[0m Skipped uploading summary data that exceeded size limit (22580233 > 10383360).\n",
      " 96%|█████████▋| 181/188 [44:57<01:41, 14.47s/it]\u001b[34m\u001b[1mwandb\u001b[0m: \u001b[33mWARNING\u001b[0m Skipped uploading summary data that exceeded size limit (22859671 > 10383360).\n",
      " 98%|█████████▊| 185/188 [45:55<00:43, 14.57s/it]\u001b[34m\u001b[1mwandb\u001b[0m: \u001b[33mWARNING\u001b[0m Skipped uploading summary data that exceeded size limit (23140559 > 10383360).\n",
      "100%|██████████| 188/188 [46:39<00:00, 14.89s/it]\n"
     ]
    },
    {
     "data": {
      "text/html": [
       "\n",
       "    <style>\n",
       "        .wandb-row {\n",
       "            display: flex;\n",
       "            flex-direction: row;\n",
       "            flex-wrap: wrap;\n",
       "            justify-content: flex-start;\n",
       "            width: 100%;\n",
       "        }\n",
       "        .wandb-col {\n",
       "            display: flex;\n",
       "            flex-direction: column;\n",
       "            flex-basis: 100%;\n",
       "            flex: 1;\n",
       "            padding: 10px;\n",
       "        }\n",
       "    </style>\n",
       "<div class=\"wandb-row\"><div class=\"wandb-col\"><h3>Run history:</h3><br/><table class=\"wandb\"><tr><td>length_of_summary_1</td><td>▁</td></tr><tr><td>length_of_summary_10</td><td>▁</td></tr><tr><td>length_of_summary_100</td><td>▁</td></tr><tr><td>length_of_summary_101</td><td>▁</td></tr><tr><td>length_of_summary_102</td><td>▁</td></tr><tr><td>length_of_summary_103</td><td>▁</td></tr><tr><td>length_of_summary_104</td><td>▁</td></tr><tr><td>length_of_summary_105</td><td>▁</td></tr><tr><td>length_of_summary_106</td><td>▁</td></tr><tr><td>length_of_summary_107</td><td>▁</td></tr><tr><td>length_of_summary_108</td><td>▁</td></tr><tr><td>length_of_summary_109</td><td>▁</td></tr><tr><td>length_of_summary_11</td><td>▁</td></tr><tr><td>length_of_summary_110</td><td>▁</td></tr><tr><td>length_of_summary_111</td><td>▁</td></tr><tr><td>length_of_summary_112</td><td>▁</td></tr><tr><td>length_of_summary_113</td><td>▁</td></tr><tr><td>length_of_summary_114</td><td>▁</td></tr><tr><td>length_of_summary_115</td><td>▁</td></tr><tr><td>length_of_summary_116</td><td>▁</td></tr><tr><td>length_of_summary_117</td><td>▁</td></tr><tr><td>length_of_summary_118</td><td>▁</td></tr><tr><td>length_of_summary_119</td><td>▁</td></tr><tr><td>length_of_summary_12</td><td>▁</td></tr><tr><td>length_of_summary_120</td><td>▁</td></tr><tr><td>length_of_summary_121</td><td>▁</td></tr><tr><td>length_of_summary_122</td><td>▁</td></tr><tr><td>length_of_summary_123</td><td>▁</td></tr><tr><td>length_of_summary_124</td><td>▁</td></tr><tr><td>length_of_summary_125</td><td>▁</td></tr><tr><td>length_of_summary_126</td><td>▁</td></tr><tr><td>length_of_summary_127</td><td>▁</td></tr><tr><td>length_of_summary_128</td><td>▁</td></tr><tr><td>length_of_summary_129</td><td>▁</td></tr><tr><td>length_of_summary_13</td><td>▁</td></tr><tr><td>length_of_summary_130</td><td>▁</td></tr><tr><td>length_of_summary_131</td><td>▁</td></tr><tr><td>length_of_summary_132</td><td>▁</td></tr><tr><td>length_of_summary_133</td><td>▁</td></tr><tr><td>length_of_summary_134</td><td>▁</td></tr><tr><td>length_of_summary_135</td><td>▁</td></tr><tr><td>length_of_summary_136</td><td>▁</td></tr><tr><td>length_of_summary_137</td><td>▁</td></tr><tr><td>length_of_summary_138</td><td>▁</td></tr><tr><td>length_of_summary_139</td><td>▁</td></tr><tr><td>length_of_summary_14</td><td>▁</td></tr><tr><td>length_of_summary_140</td><td>▁</td></tr><tr><td>length_of_summary_141</td><td>▁</td></tr><tr><td>length_of_summary_142</td><td>▁</td></tr><tr><td>length_of_summary_143</td><td>▁</td></tr><tr><td>length_of_summary_144</td><td>▁</td></tr><tr><td>length_of_summary_145</td><td>▁</td></tr><tr><td>length_of_summary_146</td><td>▁</td></tr><tr><td>length_of_summary_147</td><td>▁</td></tr><tr><td>length_of_summary_148</td><td>▁</td></tr><tr><td>length_of_summary_149</td><td>▁</td></tr><tr><td>length_of_summary_15</td><td>▁</td></tr><tr><td>length_of_summary_150</td><td>▁</td></tr><tr><td>length_of_summary_151</td><td>▁</td></tr><tr><td>length_of_summary_152</td><td>▁</td></tr><tr><td>length_of_summary_153</td><td>▁</td></tr><tr><td>length_of_summary_154</td><td>▁</td></tr><tr><td>length_of_summary_155</td><td>▁</td></tr><tr><td>length_of_summary_156</td><td>▁</td></tr><tr><td>length_of_summary_157</td><td>▁</td></tr><tr><td>length_of_summary_158</td><td>▁</td></tr><tr><td>length_of_summary_159</td><td>▁</td></tr><tr><td>length_of_summary_16</td><td>▁</td></tr><tr><td>length_of_summary_160</td><td>▁</td></tr><tr><td>length_of_summary_161</td><td>▁</td></tr><tr><td>length_of_summary_162</td><td>▁</td></tr><tr><td>length_of_summary_163</td><td>▁</td></tr><tr><td>length_of_summary_164</td><td>▁</td></tr><tr><td>length_of_summary_165</td><td>▁</td></tr><tr><td>length_of_summary_166</td><td>▁</td></tr><tr><td>length_of_summary_167</td><td>▁</td></tr><tr><td>length_of_summary_168</td><td>▁</td></tr><tr><td>length_of_summary_169</td><td>▁</td></tr><tr><td>length_of_summary_17</td><td>▁</td></tr><tr><td>length_of_summary_170</td><td>▁</td></tr><tr><td>length_of_summary_171</td><td>▁</td></tr><tr><td>length_of_summary_172</td><td>▁</td></tr><tr><td>length_of_summary_173</td><td>▁</td></tr><tr><td>length_of_summary_174</td><td>▁</td></tr><tr><td>length_of_summary_175</td><td>▁</td></tr><tr><td>length_of_summary_176</td><td>▁</td></tr><tr><td>length_of_summary_177</td><td>▁</td></tr><tr><td>length_of_summary_178</td><td>▁</td></tr><tr><td>length_of_summary_179</td><td>▁</td></tr><tr><td>length_of_summary_18</td><td>▁</td></tr><tr><td>length_of_summary_180</td><td>▁</td></tr><tr><td>length_of_summary_181</td><td>▁</td></tr><tr><td>length_of_summary_182</td><td>▁</td></tr><tr><td>length_of_summary_183</td><td>▁</td></tr><tr><td>length_of_summary_184</td><td>▁</td></tr><tr><td>length_of_summary_185</td><td>▁</td></tr><tr><td>length_of_summary_186</td><td>▁</td></tr><tr><td>length_of_summary_187</td><td>▁</td></tr><tr><td>length_of_summary_188</td><td>▁</td></tr><tr><td>length_of_summary_19</td><td>▁</td></tr><tr><td>length_of_summary_2</td><td>▁</td></tr><tr><td>length_of_summary_20</td><td>▁</td></tr><tr><td>length_of_summary_21</td><td>▁</td></tr><tr><td>length_of_summary_22</td><td>▁</td></tr><tr><td>length_of_summary_23</td><td>▁</td></tr><tr><td>length_of_summary_24</td><td>▁</td></tr><tr><td>length_of_summary_25</td><td>▁</td></tr><tr><td>length_of_summary_26</td><td>▁</td></tr><tr><td>length_of_summary_27</td><td>▁</td></tr><tr><td>length_of_summary_28</td><td>▁</td></tr><tr><td>length_of_summary_29</td><td>▁</td></tr><tr><td>length_of_summary_3</td><td>▁</td></tr><tr><td>length_of_summary_30</td><td>▁</td></tr><tr><td>length_of_summary_31</td><td>▁</td></tr><tr><td>length_of_summary_32</td><td>▁</td></tr><tr><td>length_of_summary_33</td><td>▁</td></tr><tr><td>length_of_summary_34</td><td>▁</td></tr><tr><td>length_of_summary_35</td><td>▁</td></tr><tr><td>length_of_summary_36</td><td>▁</td></tr><tr><td>length_of_summary_37</td><td>▁</td></tr><tr><td>length_of_summary_38</td><td>▁</td></tr><tr><td>length_of_summary_39</td><td>▁</td></tr><tr><td>length_of_summary_4</td><td>▁</td></tr><tr><td>length_of_summary_40</td><td>▁</td></tr><tr><td>length_of_summary_41</td><td>▁</td></tr><tr><td>length_of_summary_42</td><td>▁</td></tr><tr><td>length_of_summary_43</td><td>▁</td></tr><tr><td>length_of_summary_44</td><td>▁</td></tr><tr><td>length_of_summary_45</td><td>▁</td></tr><tr><td>length_of_summary_46</td><td>▁</td></tr><tr><td>length_of_summary_47</td><td>▁</td></tr><tr><td>length_of_summary_48</td><td>▁</td></tr><tr><td>length_of_summary_49</td><td>▁</td></tr><tr><td>length_of_summary_5</td><td>▁</td></tr><tr><td>length_of_summary_50</td><td>▁</td></tr><tr><td>length_of_summary_51</td><td>▁</td></tr><tr><td>length_of_summary_52</td><td>▁</td></tr><tr><td>length_of_summary_53</td><td>▁</td></tr><tr><td>length_of_summary_54</td><td>▁</td></tr><tr><td>length_of_summary_55</td><td>▁</td></tr><tr><td>length_of_summary_56</td><td>▁</td></tr><tr><td>length_of_summary_57</td><td>▁</td></tr><tr><td>length_of_summary_58</td><td>▁</td></tr><tr><td>length_of_summary_59</td><td>▁</td></tr><tr><td>length_of_summary_6</td><td>▁</td></tr><tr><td>length_of_summary_60</td><td>▁</td></tr><tr><td>length_of_summary_61</td><td>▁</td></tr><tr><td>length_of_summary_62</td><td>▁</td></tr><tr><td>length_of_summary_63</td><td>▁</td></tr><tr><td>length_of_summary_64</td><td>▁</td></tr><tr><td>length_of_summary_65</td><td>▁</td></tr><tr><td>length_of_summary_66</td><td>▁</td></tr><tr><td>length_of_summary_67</td><td>▁</td></tr><tr><td>length_of_summary_68</td><td>▁</td></tr><tr><td>length_of_summary_69</td><td>▁</td></tr><tr><td>length_of_summary_7</td><td>▁</td></tr><tr><td>length_of_summary_70</td><td>▁</td></tr><tr><td>length_of_summary_71</td><td>▁</td></tr><tr><td>length_of_summary_72</td><td>▁</td></tr><tr><td>length_of_summary_73</td><td>▁</td></tr><tr><td>length_of_summary_74</td><td>▁</td></tr><tr><td>length_of_summary_75</td><td>▁</td></tr><tr><td>length_of_summary_76</td><td>▁</td></tr><tr><td>length_of_summary_77</td><td>▁</td></tr><tr><td>length_of_summary_78</td><td>▁</td></tr><tr><td>length_of_summary_79</td><td>▁</td></tr><tr><td>length_of_summary_8</td><td>▁</td></tr><tr><td>length_of_summary_80</td><td>▁</td></tr><tr><td>length_of_summary_81</td><td>▁</td></tr><tr><td>length_of_summary_82</td><td>▁</td></tr><tr><td>length_of_summary_83</td><td>▁</td></tr><tr><td>length_of_summary_84</td><td>▁</td></tr><tr><td>length_of_summary_85</td><td>▁</td></tr><tr><td>length_of_summary_86</td><td>▁</td></tr><tr><td>length_of_summary_87</td><td>▁</td></tr><tr><td>length_of_summary_88</td><td>▁</td></tr><tr><td>length_of_summary_89</td><td>▁</td></tr><tr><td>length_of_summary_9</td><td>▁</td></tr><tr><td>length_of_summary_90</td><td>▁</td></tr><tr><td>length_of_summary_91</td><td>▁</td></tr><tr><td>length_of_summary_92</td><td>▁</td></tr><tr><td>length_of_summary_93</td><td>▁</td></tr><tr><td>length_of_summary_94</td><td>▁</td></tr><tr><td>length_of_summary_95</td><td>▁</td></tr><tr><td>length_of_summary_96</td><td>▁</td></tr><tr><td>length_of_summary_97</td><td>▁</td></tr><tr><td>length_of_summary_98</td><td>▁</td></tr><tr><td>length_of_summary_99</td><td>▁</td></tr></table><br/></div><div class=\"wandb-col\"><h3>Run summary:</h3><br/><table class=\"wandb\"><tr><td>input_1</td><td>12.7.2019\n",
       "EN\n",
       "Officia...</td></tr><tr><td>input_10</td><td>11.5.2021\n",
       "EN\n",
       "Officia...</td></tr><tr><td>input_100</td><td>16.5.2012\n",
       "EN\n",
       "Officia...</td></tr><tr><td>input_101</td><td>27.6.2014\n",
       "EN\n",
       "Officia...</td></tr><tr><td>input_102</td><td>19.1.2013\n",
       "EN\n",
       "Officia...</td></tr><tr><td>input_103</td><td>27.6.2014\n",
       "EN\n",
       "Officia...</td></tr><tr><td>input_104</td><td>27.6.2014\n",
       "EN\n",
       "Officia...</td></tr><tr><td>input_105</td><td>20.5.2014\n",
       "EN\n",
       "Officia...</td></tr><tr><td>input_106</td><td>20.5.2014\n",
       "EN\n",
       "Officia...</td></tr><tr><td>input_107</td><td>20.5.2014\n",
       "EN\n",
       "Officia...</td></tr><tr><td>input_108</td><td>14.11.2012\n",
       "EN\n",
       "Offici...</td></tr><tr><td>input_109</td><td>20.12.2012\n",
       "EN\n",
       "Offici...</td></tr><tr><td>input_11</td><td>3.5.2021\n",
       "EN\n",
       "Official...</td></tr><tr><td>input_110</td><td>31.10.2012\n",
       "EN\n",
       "Offici...</td></tr><tr><td>input_111</td><td>30.3.2012\n",
       "EN\n",
       "Officia...</td></tr><tr><td>input_112</td><td>6.11.2013\n",
       "EN\n",
       "Officia...</td></tr><tr><td>input_113</td><td>29.6.2013\n",
       "EN\n",
       "Officia...</td></tr><tr><td>input_114</td><td>14.12.2012\n",
       "EN\n",
       "Offici...</td></tr><tr><td>input_115</td><td>30.6.2012\n",
       "EN\n",
       "Officia...</td></tr><tr><td>input_116</td><td>15.12.2010\n",
       "EN\n",
       "Offici...</td></tr><tr><td>input_117</td><td>27.5.2011\n",
       "EN\n",
       "Officia...</td></tr><tr><td>input_118</td><td>31.10.2009\n",
       "EN\n",
       "Offici...</td></tr><tr><td>input_119</td><td>21.5.2009\n",
       "EN\n",
       "Officia...</td></tr><tr><td>input_12</td><td>6.4.2021\n",
       "EN\n",
       "Official...</td></tr><tr><td>input_120</td><td>22.12.2009\n",
       "EN\n",
       "Offici...</td></tr><tr><td>input_121</td><td>13.2.2008\n",
       "EN\n",
       "Officia...</td></tr><tr><td>input_122</td><td>9.4.2008\n",
       "EN\n",
       "Official...</td></tr><tr><td>input_123</td><td>7.12.2020\n",
       "EN\n",
       "Officia...</td></tr><tr><td>input_124</td><td>1.4.2020\n",
       "EN\n",
       "Official...</td></tr><tr><td>input_125</td><td>6.4.2020\n",
       "EN\n",
       "Official...</td></tr><tr><td>input_126</td><td>9.7.2018\n",
       "EN\n",
       "Official...</td></tr><tr><td>input_127</td><td>16.7.2018\n",
       "EN\n",
       "Officia...</td></tr><tr><td>input_128</td><td>16.7.2018\n",
       "EN\n",
       "Officia...</td></tr><tr><td>input_129</td><td>12.11.2018\n",
       "EN\n",
       "Offici...</td></tr><tr><td>input_13</td><td>25.7.2019\n",
       "EN\n",
       "Officia...</td></tr><tr><td>input_130</td><td>21.12.2018\n",
       "EN\n",
       "Offici...</td></tr><tr><td>input_131</td><td>25.6.2019\n",
       "EN\n",
       "Officia...</td></tr><tr><td>input_132</td><td>12.6.2019\n",
       "EN\n",
       "Officia...</td></tr><tr><td>input_133</td><td>30.4.2021\n",
       "EN\n",
       "Officia...</td></tr><tr><td>input_134</td><td>16.6.2017\n",
       "EN\n",
       "Officia...</td></tr><tr><td>input_135</td><td>20.9.2017\n",
       "EN\n",
       "Officia...</td></tr><tr><td>input_136</td><td>27.12.2017\n",
       "EN\n",
       "Offici...</td></tr><tr><td>input_137</td><td>5.5.2017\n",
       "EN\n",
       "Official...</td></tr><tr><td>input_138</td><td>29.6.2016\n",
       "EN\n",
       "Officia...</td></tr><tr><td>input_139</td><td>31.3.2016\n",
       "EN\n",
       "Officia...</td></tr><tr><td>input_14</td><td>29.3.2019\n",
       "EN\n",
       "Officia...</td></tr><tr><td>input_140</td><td>29.11.2011\n",
       "EN\n",
       "Offici...</td></tr><tr><td>input_141</td><td>22.11.2011\n",
       "EN\n",
       "Offici...</td></tr><tr><td>input_142</td><td>27.7.2012\n",
       "EN\n",
       "Officia...</td></tr><tr><td>input_143</td><td>20.12.2013\n",
       "EN\n",
       "Offici...</td></tr><tr><td>input_144</td><td>10.12.2013\n",
       "EN\n",
       "Offici...</td></tr><tr><td>input_145</td><td>18.10.2011\n",
       "EN\n",
       "Offici...</td></tr><tr><td>input_146</td><td>20.5.2014\n",
       "EN\n",
       "Officia...</td></tr><tr><td>input_147</td><td>9.12.2014\n",
       "EN\n",
       "Officia...</td></tr><tr><td>input_148</td><td>30.7.2014\n",
       "EN\n",
       "Officia...</td></tr><tr><td>input_149</td><td>12.6.2014\n",
       "EN\n",
       "Officia...</td></tr><tr><td>input_15</td><td>25.7.2019\n",
       "EN\n",
       "Officia...</td></tr><tr><td>input_150</td><td>5.6.2015\n",
       "EN\n",
       "Official...</td></tr><tr><td>input_151</td><td>28.5.2009\n",
       "EN\n",
       "Officia...</td></tr><tr><td>input_152</td><td>20.10.2010\n",
       "EN\n",
       "Offici...</td></tr><tr><td>input_153</td><td>14.11.2009\n",
       "EN\n",
       "Offici...</td></tr><tr><td>input_154</td><td>30.10.2009\n",
       "EN\n",
       "Offici...</td></tr><tr><td>input_155</td><td>31.12.2008\n",
       "EN\n",
       "Offici...</td></tr><tr><td>input_156</td><td>4.6.2008\n",
       "EN\n",
       "Official...</td></tr><tr><td>input_157</td><td>4.2.2009\n",
       "EN\n",
       "Official...</td></tr><tr><td>input_158</td><td>14.8.2009\n",
       "EN\n",
       "Officia...</td></tr><tr><td>input_159</td><td>31.7.2009\n",
       "EN\n",
       "Officia...</td></tr><tr><td>input_16</td><td>12.7.2019\n",
       "EN\n",
       "Officia...</td></tr><tr><td>input_160</td><td>31.7.2007\n",
       "EN\n",
       "Officia...</td></tr><tr><td>input_161</td><td>27.5.2014\n",
       "EN\n",
       "Officia...</td></tr><tr><td>input_162</td><td>28.12.2013\n",
       "EN\n",
       "Offici...</td></tr><tr><td>input_163</td><td>28.12.2013\n",
       "EN\n",
       "Offici...</td></tr><tr><td>input_164</td><td>28.8.2014\n",
       "EN\n",
       "Officia...</td></tr><tr><td>input_165</td><td>20.12.2013\n",
       "EN\n",
       "Offici...</td></tr><tr><td>input_166</td><td>20.12.2013\n",
       "EN\n",
       "Offici...</td></tr><tr><td>input_167</td><td>20.12.2013\n",
       "EN\n",
       "Offici...</td></tr><tr><td>input_168</td><td>25.4.2013\n",
       "EN\n",
       "Officia...</td></tr><tr><td>input_169</td><td>18.6.2013\n",
       "EN\n",
       "Officia...</td></tr><tr><td>input_17</td><td>22.5.2019\n",
       "EN\n",
       "Officia...</td></tr><tr><td>input_170</td><td>20.12.2013\n",
       "EN\n",
       "Offici...</td></tr><tr><td>input_171</td><td>20.12.2013\n",
       "EN\n",
       "Offici...</td></tr><tr><td>input_172</td><td>20.3.2013\n",
       "EN\n",
       "Officia...</td></tr><tr><td>input_173</td><td>3.2.2012\n",
       "EN\n",
       "Official...</td></tr><tr><td>input_174</td><td>10.12.2007\n",
       "EN\n",
       "Offici...</td></tr><tr><td>input_175</td><td>10.12.2007\n",
       "EN\n",
       "Offici...</td></tr><tr><td>input_176</td><td>29.6.2007\n",
       "EN\n",
       "Officia...</td></tr><tr><td>input_177</td><td>31.12.2008\n",
       "EN\n",
       "Offici...</td></tr><tr><td>input_178</td><td>13.8.2008\n",
       "EN\n",
       "Officia...</td></tr><tr><td>input_179</td><td>EUR-Lex - 22006A1021...</td></tr><tr><td>input_18</td><td>22.5.2019\n",
       "EN\n",
       "Officia...</td></tr><tr><td>input_180</td><td>3.12.2007\n",
       "EN\n",
       "Officia...</td></tr><tr><td>input_181</td><td>4.6.2008\n",
       "EN\n",
       "Official...</td></tr><tr><td>input_182</td><td>14.11.2008\n",
       "EN\n",
       "Offici...</td></tr><tr><td>input_183</td><td>28.2.2011\n",
       "EN\n",
       "Officia...</td></tr><tr><td>input_184</td><td>13.8.2008\n",
       "EN\n",
       "Officia...</td></tr><tr><td>input_185</td><td>31.12.2010\n",
       "EN\n",
       "Offici...</td></tr><tr><td>input_186</td><td>30.1.2010\n",
       "EN\n",
       "Officia...</td></tr><tr><td>input_187</td><td>16.6.2009\n",
       "EN\n",
       "Officia...</td></tr><tr><td>input_188</td><td>10.6.2009\n",
       "EN\n",
       "Officia...</td></tr><tr><td>input_19</td><td>21.12.2018\n",
       "EN\n",
       "Offici...</td></tr><tr><td>input_2</td><td>25.6.2019\n",
       "EN\n",
       "Officia...</td></tr><tr><td>input_20</td><td>17.12.2018\n",
       "EN\n",
       "Offici...</td></tr><tr><td>input_21</td><td>9.7.2018\n",
       "EN\n",
       "Official...</td></tr><tr><td>input_22</td><td>28.10.2017\n",
       "EN\n",
       "Offici...</td></tr><tr><td>input_23</td><td>28.7.2017\n",
       "EN\n",
       "Officia...</td></tr><tr><td>input_24</td><td>4.5.2016\n",
       "EN\n",
       "Official...</td></tr><tr><td>input_25</td><td>24.5.2016\n",
       "EN\n",
       "Officia...</td></tr><tr><td>input_26</td><td>30.6.2016\n",
       "EN\n",
       "Officia...</td></tr><tr><td>input_27</td><td>30.6.2016\n",
       "EN\n",
       "Officia...</td></tr><tr><td>input_28</td><td>26.3.2021\n",
       "EN\n",
       "Officia...</td></tr><tr><td>input_29</td><td>18.2.2021\n",
       "EN\n",
       "Officia...</td></tr><tr><td>input_3</td><td>17.5.2019\n",
       "EN\n",
       "Officia...</td></tr><tr><td>input_30</td><td>18.2.2021\n",
       "EN\n",
       "Officia...</td></tr><tr><td>input_31</td><td>17.5.2021\n",
       "EN\n",
       "Officia...</td></tr><tr><td>input_32</td><td>20.9.2021\n",
       "EN\n",
       "Officia...</td></tr><tr><td>input_33</td><td>14.6.2021\n",
       "EN\n",
       "Officia...</td></tr><tr><td>input_34</td><td>26.11.2019\n",
       "EN\n",
       "Offici...</td></tr><tr><td>input_35</td><td>14.11.2019\n",
       "EN\n",
       "Offici...</td></tr><tr><td>input_36</td><td>7.6.2019\n",
       "EN\n",
       "Official...</td></tr><tr><td>input_37</td><td>29.3.2019\n",
       "EN\n",
       "Officia...</td></tr><tr><td>input_38</td><td>10.1.2019\n",
       "EN\n",
       "Officia...</td></tr><tr><td>input_39</td><td>24.5.2016\n",
       "EN\n",
       "Officia...</td></tr><tr><td>input_4</td><td>29.3.2019\n",
       "EN\n",
       "Officia...</td></tr><tr><td>input_40</td><td>20.5.2020\n",
       "EN\n",
       "Officia...</td></tr><tr><td>input_41</td><td>22.1.2021\n",
       "EN\n",
       "Officia...</td></tr><tr><td>input_42</td><td>28.12.2020\n",
       "EN\n",
       "Offici...</td></tr><tr><td>input_43</td><td>20.10.2020\n",
       "EN\n",
       "Offici...</td></tr><tr><td>input_44</td><td>5.6.2020\n",
       "EN\n",
       "Official...</td></tr><tr><td>input_45</td><td>28.10.2021\n",
       "EN\n",
       "Offici...</td></tr><tr><td>input_46</td><td>15.7.2021\n",
       "EN\n",
       "Officia...</td></tr><tr><td>input_47</td><td>12.7.2019\n",
       "EN\n",
       "Officia...</td></tr><tr><td>input_48</td><td>11.7.2019\n",
       "EN\n",
       "Officia...</td></tr><tr><td>input_49</td><td>28.7.2017\n",
       "EN\n",
       "Officia...</td></tr><tr><td>input_5</td><td>29.3.2019\n",
       "EN\n",
       "Officia...</td></tr><tr><td>input_50</td><td>19.5.2015\n",
       "EN\n",
       "Officia...</td></tr><tr><td>input_51</td><td>2.5.2018\n",
       "EN\n",
       "Official...</td></tr><tr><td>input_52</td><td>16.7.2018\n",
       "EN\n",
       "Officia...</td></tr><tr><td>input_53</td><td>2.5.2018\n",
       "EN\n",
       "Official...</td></tr><tr><td>input_54</td><td>7.12.2018\n",
       "EN\n",
       "Officia...</td></tr><tr><td>input_55</td><td>28.11.2018\n",
       "EN\n",
       "Offici...</td></tr><tr><td>input_56</td><td>21.11.2018\n",
       "EN\n",
       "Offici...</td></tr><tr><td>input_57</td><td>12.11.2018\n",
       "EN\n",
       "Offici...</td></tr><tr><td>input_58</td><td>16.9.2016\n",
       "EN\n",
       "Officia...</td></tr><tr><td>input_59</td><td>30.6.2016\n",
       "EN\n",
       "Officia...</td></tr><tr><td>input_6</td><td>14.7.2021\n",
       "EN\n",
       "Officia...</td></tr><tr><td>input_60</td><td>31.3.2016\n",
       "EN\n",
       "Officia...</td></tr><tr><td>input_61</td><td>7.6.2019\n",
       "EN\n",
       "Official...</td></tr><tr><td>input_62</td><td>19.5.2017\n",
       "EN\n",
       "Officia...</td></tr><tr><td>input_63</td><td>10.10.2013\n",
       "EN\n",
       "Offici...</td></tr><tr><td>input_64</td><td>29.6.2013\n",
       "EN\n",
       "Officia...</td></tr><tr><td>input_65</td><td>15.3.2021\n",
       "EN\n",
       "Officia...</td></tr><tr><td>input_66</td><td>30.6.2021\n",
       "EN\n",
       "Officia...</td></tr><tr><td>input_67</td><td>8.6.2021\n",
       "EN\n",
       "Official...</td></tr><tr><td>input_68</td><td>3.5.2021\n",
       "EN\n",
       "Official...</td></tr><tr><td>input_69</td><td>11.6.2021\n",
       "EN\n",
       "Officia...</td></tr><tr><td>input_7</td><td>17.5.2021\n",
       "EN\n",
       "Officia...</td></tr><tr><td>input_70</td><td>22.12.2020\n",
       "EN\n",
       "Offici...</td></tr><tr><td>input_71</td><td>22.12.2020\n",
       "EN\n",
       "Offici...</td></tr><tr><td>input_72</td><td>23.11.2011\n",
       "EN\n",
       "Offici...</td></tr><tr><td>input_73</td><td>15.9.2009\n",
       "EN\n",
       "Officia...</td></tr><tr><td>input_74</td><td>13.8.2008\n",
       "EN\n",
       "Officia...</td></tr><tr><td>input_75</td><td>22.11.2019\n",
       "EN\n",
       "Offici...</td></tr><tr><td>input_76</td><td>26.6.2020\n",
       "EN\n",
       "Officia...</td></tr><tr><td>input_77</td><td>15.12.2020\n",
       "EN\n",
       "Offici...</td></tr><tr><td>input_78</td><td>5.6.2020\n",
       "EN\n",
       "Official...</td></tr><tr><td>input_79</td><td>2.7.2021\n",
       "EN\n",
       "Official...</td></tr><tr><td>input_8</td><td>12.5.2021\n",
       "EN\n",
       "Officia...</td></tr><tr><td>input_80</td><td>14.6.2019\n",
       "EN\n",
       "Officia...</td></tr><tr><td>input_81</td><td>19.7.2021\n",
       "EN\n",
       "Officia...</td></tr><tr><td>input_82</td><td>9.7.2021\n",
       "EN\n",
       "Official...</td></tr><tr><td>input_83</td><td>26.3.2021\n",
       "EN\n",
       "Officia...</td></tr><tr><td>input_84</td><td>28.5.2021\n",
       "EN\n",
       "Officia...</td></tr><tr><td>input_85</td><td>28.5.2021\n",
       "EN\n",
       "Officia...</td></tr><tr><td>input_86</td><td>20.3.2014\n",
       "EN\n",
       "Officia...</td></tr><tr><td>input_87</td><td>30.1.2020\n",
       "EN\n",
       "Officia...</td></tr><tr><td>input_88</td><td>28.2.2022\n",
       "EN\n",
       "Officia...</td></tr><tr><td>input_89</td><td>12.7.2019\n",
       "EN\n",
       "Officia...</td></tr><tr><td>input_9</td><td>12.5.2021\n",
       "EN\n",
       "Officia...</td></tr><tr><td>input_90</td><td>20.12.2013\n",
       "EN\n",
       "Offici...</td></tr><tr><td>input_91</td><td>13.7.2021\n",
       "EN\n",
       "Officia...</td></tr><tr><td>input_92</td><td>26.1.2021\n",
       "EN\n",
       "Officia...</td></tr><tr><td>input_93</td><td>12.5.2016\n",
       "EN\n",
       "Officia...</td></tr><tr><td>input_94</td><td>11.3.2011\n",
       "EN\n",
       "Officia...</td></tr><tr><td>input_95</td><td>10.12.2009\n",
       "EN\n",
       "Offici...</td></tr><tr><td>input_96</td><td>24.11.2009\n",
       "EN\n",
       "Offici...</td></tr><tr><td>input_97</td><td>14.11.2012\n",
       "EN\n",
       "Offici...</td></tr><tr><td>input_98</td><td>30.12.2011\n",
       "EN\n",
       "Offici...</td></tr><tr><td>input_99</td><td>31.12.2012\n",
       "EN\n",
       "Offici...</td></tr><tr><td>length_of_summary_1</td><td>202</td></tr><tr><td>length_of_summary_10</td><td>216</td></tr><tr><td>length_of_summary_100</td><td>216</td></tr><tr><td>length_of_summary_101</td><td>228</td></tr><tr><td>length_of_summary_102</td><td>223</td></tr><tr><td>length_of_summary_103</td><td>215</td></tr><tr><td>length_of_summary_104</td><td>222</td></tr><tr><td>length_of_summary_105</td><td>214</td></tr><tr><td>length_of_summary_106</td><td>213</td></tr><tr><td>length_of_summary_107</td><td>210</td></tr><tr><td>length_of_summary_108</td><td>219</td></tr><tr><td>length_of_summary_109</td><td>220</td></tr><tr><td>length_of_summary_11</td><td>219</td></tr><tr><td>length_of_summary_110</td><td>221</td></tr><tr><td>length_of_summary_111</td><td>223</td></tr><tr><td>length_of_summary_112</td><td>209</td></tr><tr><td>length_of_summary_113</td><td>225</td></tr><tr><td>length_of_summary_114</td><td>213</td></tr><tr><td>length_of_summary_115</td><td>226</td></tr><tr><td>length_of_summary_116</td><td>199</td></tr><tr><td>length_of_summary_117</td><td>226</td></tr><tr><td>length_of_summary_118</td><td>208</td></tr><tr><td>length_of_summary_119</td><td>216</td></tr><tr><td>length_of_summary_12</td><td>219</td></tr><tr><td>length_of_summary_120</td><td>224</td></tr><tr><td>length_of_summary_121</td><td>212</td></tr><tr><td>length_of_summary_122</td><td>229</td></tr><tr><td>length_of_summary_123</td><td>217</td></tr><tr><td>length_of_summary_124</td><td>226</td></tr><tr><td>length_of_summary_125</td><td>217</td></tr><tr><td>length_of_summary_126</td><td>219</td></tr><tr><td>length_of_summary_127</td><td>223</td></tr><tr><td>length_of_summary_128</td><td>216</td></tr><tr><td>length_of_summary_129</td><td>223</td></tr><tr><td>length_of_summary_13</td><td>217</td></tr><tr><td>length_of_summary_130</td><td>216</td></tr><tr><td>length_of_summary_131</td><td>206</td></tr><tr><td>length_of_summary_132</td><td>220</td></tr><tr><td>length_of_summary_133</td><td>224</td></tr><tr><td>length_of_summary_134</td><td>210</td></tr><tr><td>length_of_summary_135</td><td>220</td></tr><tr><td>length_of_summary_136</td><td>210</td></tr><tr><td>length_of_summary_137</td><td>225</td></tr><tr><td>length_of_summary_138</td><td>218</td></tr><tr><td>length_of_summary_139</td><td>211</td></tr><tr><td>length_of_summary_14</td><td>211</td></tr><tr><td>length_of_summary_140</td><td>218</td></tr><tr><td>length_of_summary_141</td><td>222</td></tr><tr><td>length_of_summary_142</td><td>212</td></tr><tr><td>length_of_summary_143</td><td>215</td></tr><tr><td>length_of_summary_144</td><td>228</td></tr><tr><td>length_of_summary_145</td><td>207</td></tr><tr><td>length_of_summary_146</td><td>219</td></tr><tr><td>length_of_summary_147</td><td>213</td></tr><tr><td>length_of_summary_148</td><td>221</td></tr><tr><td>length_of_summary_149</td><td>219</td></tr><tr><td>length_of_summary_15</td><td>220</td></tr><tr><td>length_of_summary_150</td><td>222</td></tr><tr><td>length_of_summary_151</td><td>219</td></tr><tr><td>length_of_summary_152</td><td>222</td></tr><tr><td>length_of_summary_153</td><td>211</td></tr><tr><td>length_of_summary_154</td><td>222</td></tr><tr><td>length_of_summary_155</td><td>226</td></tr><tr><td>length_of_summary_156</td><td>225</td></tr><tr><td>length_of_summary_157</td><td>210</td></tr><tr><td>length_of_summary_158</td><td>216</td></tr><tr><td>length_of_summary_159</td><td>207</td></tr><tr><td>length_of_summary_16</td><td>219</td></tr><tr><td>length_of_summary_160</td><td>211</td></tr><tr><td>length_of_summary_161</td><td>221</td></tr><tr><td>length_of_summary_162</td><td>220</td></tr><tr><td>length_of_summary_163</td><td>215</td></tr><tr><td>length_of_summary_164</td><td>212</td></tr><tr><td>length_of_summary_165</td><td>209</td></tr><tr><td>length_of_summary_166</td><td>226</td></tr><tr><td>length_of_summary_167</td><td>224</td></tr><tr><td>length_of_summary_168</td><td>218</td></tr><tr><td>length_of_summary_169</td><td>225</td></tr><tr><td>length_of_summary_17</td><td>229</td></tr><tr><td>length_of_summary_170</td><td>220</td></tr><tr><td>length_of_summary_171</td><td>214</td></tr><tr><td>length_of_summary_172</td><td>226</td></tr><tr><td>length_of_summary_173</td><td>214</td></tr><tr><td>length_of_summary_174</td><td>200</td></tr><tr><td>length_of_summary_175</td><td>217</td></tr><tr><td>length_of_summary_176</td><td>221</td></tr><tr><td>length_of_summary_177</td><td>210</td></tr><tr><td>length_of_summary_178</td><td>204</td></tr><tr><td>length_of_summary_179</td><td>224</td></tr><tr><td>length_of_summary_18</td><td>219</td></tr><tr><td>length_of_summary_180</td><td>225</td></tr><tr><td>length_of_summary_181</td><td>218</td></tr><tr><td>length_of_summary_182</td><td>225</td></tr><tr><td>length_of_summary_183</td><td>226</td></tr><tr><td>length_of_summary_184</td><td>215</td></tr><tr><td>length_of_summary_185</td><td>216</td></tr><tr><td>length_of_summary_186</td><td>216</td></tr><tr><td>length_of_summary_187</td><td>220</td></tr><tr><td>length_of_summary_188</td><td>225</td></tr><tr><td>length_of_summary_19</td><td>226</td></tr><tr><td>length_of_summary_2</td><td>208</td></tr><tr><td>length_of_summary_20</td><td>221</td></tr><tr><td>length_of_summary_21</td><td>220</td></tr><tr><td>length_of_summary_22</td><td>223</td></tr><tr><td>length_of_summary_23</td><td>222</td></tr><tr><td>length_of_summary_24</td><td>217</td></tr><tr><td>length_of_summary_25</td><td>218</td></tr><tr><td>length_of_summary_26</td><td>216</td></tr><tr><td>length_of_summary_27</td><td>223</td></tr><tr><td>length_of_summary_28</td><td>218</td></tr><tr><td>length_of_summary_29</td><td>227</td></tr><tr><td>length_of_summary_3</td><td>211</td></tr><tr><td>length_of_summary_30</td><td>223</td></tr><tr><td>length_of_summary_31</td><td>220</td></tr><tr><td>length_of_summary_32</td><td>225</td></tr><tr><td>length_of_summary_33</td><td>216</td></tr><tr><td>length_of_summary_34</td><td>222</td></tr><tr><td>length_of_summary_35</td><td>220</td></tr><tr><td>length_of_summary_36</td><td>218</td></tr><tr><td>length_of_summary_37</td><td>213</td></tr><tr><td>length_of_summary_38</td><td>213</td></tr><tr><td>length_of_summary_39</td><td>219</td></tr><tr><td>length_of_summary_4</td><td>222</td></tr><tr><td>length_of_summary_40</td><td>220</td></tr><tr><td>length_of_summary_41</td><td>215</td></tr><tr><td>length_of_summary_42</td><td>207</td></tr><tr><td>length_of_summary_43</td><td>218</td></tr><tr><td>length_of_summary_44</td><td>221</td></tr><tr><td>length_of_summary_45</td><td>217</td></tr><tr><td>length_of_summary_46</td><td>221</td></tr><tr><td>length_of_summary_47</td><td>225</td></tr><tr><td>length_of_summary_48</td><td>218</td></tr><tr><td>length_of_summary_49</td><td>215</td></tr><tr><td>length_of_summary_5</td><td>221</td></tr><tr><td>length_of_summary_50</td><td>213</td></tr><tr><td>length_of_summary_51</td><td>217</td></tr><tr><td>length_of_summary_52</td><td>217</td></tr><tr><td>length_of_summary_53</td><td>220</td></tr><tr><td>length_of_summary_54</td><td>222</td></tr><tr><td>length_of_summary_55</td><td>216</td></tr><tr><td>length_of_summary_56</td><td>225</td></tr><tr><td>length_of_summary_57</td><td>224</td></tr><tr><td>length_of_summary_58</td><td>219</td></tr><tr><td>length_of_summary_59</td><td>222</td></tr><tr><td>length_of_summary_6</td><td>226</td></tr><tr><td>length_of_summary_60</td><td>222</td></tr><tr><td>length_of_summary_61</td><td>226</td></tr><tr><td>length_of_summary_62</td><td>222</td></tr><tr><td>length_of_summary_63</td><td>220</td></tr><tr><td>length_of_summary_64</td><td>225</td></tr><tr><td>length_of_summary_65</td><td>222</td></tr><tr><td>length_of_summary_66</td><td>219</td></tr><tr><td>length_of_summary_67</td><td>220</td></tr><tr><td>length_of_summary_68</td><td>213</td></tr><tr><td>length_of_summary_69</td><td>222</td></tr><tr><td>length_of_summary_7</td><td>222</td></tr><tr><td>length_of_summary_70</td><td>221</td></tr><tr><td>length_of_summary_71</td><td>203</td></tr><tr><td>length_of_summary_72</td><td>220</td></tr><tr><td>length_of_summary_73</td><td>214</td></tr><tr><td>length_of_summary_74</td><td>224</td></tr><tr><td>length_of_summary_75</td><td>223</td></tr><tr><td>length_of_summary_76</td><td>223</td></tr><tr><td>length_of_summary_77</td><td>215</td></tr><tr><td>length_of_summary_78</td><td>225</td></tr><tr><td>length_of_summary_79</td><td>223</td></tr><tr><td>length_of_summary_8</td><td>221</td></tr><tr><td>length_of_summary_80</td><td>216</td></tr><tr><td>length_of_summary_81</td><td>219</td></tr><tr><td>length_of_summary_82</td><td>218</td></tr><tr><td>length_of_summary_83</td><td>201</td></tr><tr><td>length_of_summary_84</td><td>218</td></tr><tr><td>length_of_summary_85</td><td>214</td></tr><tr><td>length_of_summary_86</td><td>222</td></tr><tr><td>length_of_summary_87</td><td>216</td></tr><tr><td>length_of_summary_88</td><td>223</td></tr><tr><td>length_of_summary_89</td><td>124</td></tr><tr><td>length_of_summary_9</td><td>223</td></tr><tr><td>length_of_summary_90</td><td>216</td></tr><tr><td>length_of_summary_91</td><td>222</td></tr><tr><td>length_of_summary_92</td><td>216</td></tr><tr><td>length_of_summary_93</td><td>228</td></tr><tr><td>length_of_summary_94</td><td>216</td></tr><tr><td>length_of_summary_95</td><td>216</td></tr><tr><td>length_of_summary_96</td><td>222</td></tr><tr><td>length_of_summary_97</td><td>221</td></tr><tr><td>length_of_summary_98</td><td>226</td></tr><tr><td>length_of_summary_99</td><td>213</td></tr><tr><td>summary_1</td><td>E E E E e e e E E H ...</td></tr><tr><td>summary_10</td><td>The European Union, ...</td></tr><tr><td>summary_100</td><td>The European Union, ...</td></tr><tr><td>summary_101</td><td>The European Union i...</td></tr><tr><td>summary_102</td><td>The European Union i...</td></tr><tr><td>summary_103</td><td>The European Union i...</td></tr><tr><td>summary_104</td><td>The European Union, ...</td></tr><tr><td>summary_105</td><td>The European Union, ...</td></tr><tr><td>summary_106</td><td>The European Union i...</td></tr><tr><td>summary_107</td><td>The European Union, ...</td></tr><tr><td>summary_108</td><td>Eooo e e ee e e E E ...</td></tr><tr><td>summary_109</td><td>The European Union, ...</td></tr><tr><td>summary_11</td><td>EU EU, the European ...</td></tr><tr><td>summary_110</td><td>The European Union i...</td></tr><tr><td>summary_111</td><td>The United Nations o...</td></tr><tr><td>summary_112</td><td>The European Union, ...</td></tr><tr><td>summary_113</td><td>The European Union, ...</td></tr><tr><td>summary_114</td><td>The European Union, ...</td></tr><tr><td>summary_115</td><td>The European Union, ...</td></tr><tr><td>summary_116</td><td>E E E E e e e E E. T...</td></tr><tr><td>summary_117</td><td>The European Union, ...</td></tr><tr><td>summary_118</td><td>Eooo in the European...</td></tr><tr><td>summary_119</td><td>The European Union, ...</td></tr><tr><td>summary_12</td><td>E E E E e e e, the E...</td></tr><tr><td>summary_120</td><td>The European Communi...</td></tr><tr><td>summary_121</td><td>Regation in the Euro...</td></tr><tr><td>summary_122</td><td>The common common ru...</td></tr><tr><td>summary_123</td><td>The European Union i...</td></tr><tr><td>summary_124</td><td>The UN UN UN Securit...</td></tr><tr><td>summary_125</td><td>The European Union, ...</td></tr><tr><td>summary_126</td><td>The European Union i...</td></tr><tr><td>summary_127</td><td>Eooo in the European...</td></tr><tr><td>summary_128</td><td>The European Union i...</td></tr><tr><td>summary_129</td><td>The European Union i...</td></tr><tr><td>summary_13</td><td>Eooo in the EU, the ...</td></tr><tr><td>summary_130</td><td>E E E E O O O, the E...</td></tr><tr><td>summary_131</td><td>The European Union, ...</td></tr><tr><td>summary_132</td><td>The European Union i...</td></tr><tr><td>summary_133</td><td>EU in the EU, the Eu...</td></tr><tr><td>summary_134</td><td>The European Union, ...</td></tr><tr><td>summary_135</td><td>The European Union i...</td></tr><tr><td>summary_136</td><td>The European Union, ...</td></tr><tr><td>summary_137</td><td>E E E E e e e E E. T...</td></tr><tr><td>summary_138</td><td>E E E E e e eo to th...</td></tr><tr><td>summary_139</td><td>E E E E e e e. The E...</td></tr><tr><td>summary_14</td><td>The European Union, ...</td></tr><tr><td>summary_140</td><td>E E E E e e e, the E...</td></tr><tr><td>summary_141</td><td>E E E E e e e, the E...</td></tr><tr><td>summary_142</td><td>The European Europea...</td></tr><tr><td>summary_143</td><td>The European Union, ...</td></tr><tr><td>summary_144</td><td>E E E E e e e, the E...</td></tr><tr><td>summary_145</td><td>E E E E e e e E E.Th...</td></tr><tr><td>summary_146</td><td>E E E E O O O E E. T...</td></tr><tr><td>summary_147</td><td>E E E E O O O E E e ...</td></tr><tr><td>summary_148</td><td>The European Union, ...</td></tr><tr><td>summary_149</td><td>The European Union i...</td></tr><tr><td>summary_15</td><td>E E E E e e e. The E...</td></tr><tr><td>summary_150</td><td>E E E E e e e, the E...</td></tr><tr><td>summary_151</td><td>The European Union, ...</td></tr><tr><td>summary_152</td><td>The European Union, ...</td></tr><tr><td>summary_153</td><td>E E E E e e e E E H ...</td></tr><tr><td>summary_154</td><td>Social social social...</td></tr><tr><td>summary_155</td><td>E E E E O O O E E e ...</td></tr><tr><td>summary_156</td><td>The European Union, ...</td></tr><tr><td>summary_157</td><td>The European Europea...</td></tr><tr><td>summary_158</td><td>The European Europea...</td></tr><tr><td>summary_159</td><td>European European Co...</td></tr><tr><td>summary_16</td><td>The European Europea...</td></tr><tr><td>summary_160</td><td>E E E E e e e E E H ...</td></tr><tr><td>summary_161</td><td>The European Communi...</td></tr><tr><td>summary_162</td><td>E E E E e e e, in th...</td></tr><tr><td>summary_163</td><td>The European Union, ...</td></tr><tr><td>summary_164</td><td>E E E E e e e, in th...</td></tr><tr><td>summary_165</td><td>The European Union i...</td></tr><tr><td>summary_166</td><td>The European Union i...</td></tr><tr><td>summary_167</td><td>The European Union, ...</td></tr><tr><td>summary_168</td><td>The European Union, ...</td></tr><tr><td>summary_169</td><td>The European Union, ...</td></tr><tr><td>summary_17</td><td>The European Union, ...</td></tr><tr><td>summary_170</td><td>E E E E e e e, in th...</td></tr><tr><td>summary_171</td><td>The European Union i...</td></tr><tr><td>summary_172</td><td>E E E E e e eo to th...</td></tr><tr><td>summary_173</td><td>The European Union i...</td></tr><tr><td>summary_174</td><td>The European Communi...</td></tr><tr><td>summary_175</td><td>E E E E e e e E E. T...</td></tr><tr><td>summary_176</td><td>E E E E e e e E E O ...</td></tr><tr><td>summary_177</td><td>E E E E O O O E E e ...</td></tr><tr><td>summary_178</td><td>E E E E e e e E E H ...</td></tr><tr><td>summary_179</td><td>E E E M M M R R R (T...</td></tr><tr><td>summary_18</td><td>The European Union i...</td></tr><tr><td>summary_180</td><td>The European Union, ...</td></tr><tr><td>summary_181</td><td>The European Union, ...</td></tr><tr><td>summary_182</td><td>Energy energy in the...</td></tr><tr><td>summary_183</td><td>The European Union i...</td></tr><tr><td>summary_184</td><td>E E E E e e e E E. T...</td></tr><tr><td>summary_185</td><td>Eooo, the European U...</td></tr><tr><td>summary_186</td><td>E E E E e e e E E. T...</td></tr><tr><td>summary_187</td><td>Health health and th...</td></tr><tr><td>summary_188</td><td>The European Union, ...</td></tr><tr><td>summary_19</td><td>E E E E e e e E E. T...</td></tr><tr><td>summary_2</td><td>The European Union i...</td></tr><tr><td>summary_20</td><td>The European Union, ...</td></tr><tr><td>summary_21</td><td>E E E E Energy in th...</td></tr><tr><td>summary_22</td><td>E E E E e e e E E H ...</td></tr><tr><td>summary_23</td><td>Energy energy in the...</td></tr><tr><td>summary_24</td><td>The European Union, ...</td></tr><tr><td>summary_25</td><td>The European Union i...</td></tr><tr><td>summary_26</td><td>Eooo, the European U...</td></tr><tr><td>summary_27</td><td>E E E E e e e E E. T...</td></tr><tr><td>summary_28</td><td>The European Union, ...</td></tr><tr><td>summary_29</td><td>The European Union, ...</td></tr><tr><td>summary_3</td><td>The European Union i...</td></tr><tr><td>summary_30</td><td>The European Union, ...</td></tr><tr><td>summary_31</td><td>The European Union, ...</td></tr><tr><td>summary_32</td><td>The European Union, ...</td></tr><tr><td>summary_33</td><td>The European Union, ...</td></tr><tr><td>summary_34</td><td>The European Union, ...</td></tr><tr><td>summary_35</td><td>The European Union, ...</td></tr><tr><td>summary_36</td><td>The European Union, ...</td></tr><tr><td>summary_37</td><td>The European Union i...</td></tr><tr><td>summary_38</td><td>The European Union i...</td></tr><tr><td>summary_39</td><td>The European Union, ...</td></tr><tr><td>summary_4</td><td>The European Union i...</td></tr><tr><td>summary_40</td><td>E E E E e e e E e E ...</td></tr><tr><td>summary_41</td><td>E E E E e e e, the E...</td></tr><tr><td>summary_42</td><td>E E E E e e e E E. T...</td></tr><tr><td>summary_43</td><td>E E E E O O O E E e ...</td></tr><tr><td>summary_44</td><td>The European Union, ...</td></tr><tr><td>summary_45</td><td>EU in the EU, the Eu...</td></tr><tr><td>summary_46</td><td>The European Union, ...</td></tr><tr><td>summary_47</td><td>The European Europea...</td></tr><tr><td>summary_48</td><td>E E E E e e e, in th...</td></tr><tr><td>summary_49</td><td>The European Union o...</td></tr><tr><td>summary_5</td><td>The European Europea...</td></tr><tr><td>summary_50</td><td>E E E e e e E E E H ...</td></tr><tr><td>summary_51</td><td>E E E E e e e E E H ...</td></tr><tr><td>summary_52</td><td>The European Union, ...</td></tr><tr><td>summary_53</td><td>The European Union, ...</td></tr><tr><td>summary_54</td><td>E E E E O O O E e e ...</td></tr><tr><td>summary_55</td><td>The European Union, ...</td></tr><tr><td>summary_56</td><td>The European Union i...</td></tr><tr><td>summary_57</td><td>The European Union, ...</td></tr><tr><td>summary_58</td><td>E E E E e e e. The E...</td></tr><tr><td>summary_59</td><td>E E E E O O O E E e ...</td></tr><tr><td>summary_6</td><td>The European Union o...</td></tr><tr><td>summary_60</td><td>CH H H H E E e e e E...</td></tr><tr><td>summary_61</td><td>Accessibility in the...</td></tr><tr><td>summary_62</td><td>E E E E e e e, in th...</td></tr><tr><td>summary_63</td><td>The European Union, ...</td></tr><tr><td>summary_64</td><td>EU in the European U...</td></tr><tr><td>summary_65</td><td>Customers in the Eur...</td></tr><tr><td>summary_66</td><td>E E E E e e e, the E...</td></tr><tr><td>summary_67</td><td>The European Union i...</td></tr><tr><td>summary_68</td><td>The European Union, ...</td></tr><tr><td>summary_69</td><td>The European Union i...</td></tr><tr><td>summary_7</td><td>E E E E e e e E E. T...</td></tr><tr><td>summary_70</td><td>The European Union, ...</td></tr><tr><td>summary_71</td><td>E E E e e e E E E. T...</td></tr><tr><td>summary_72</td><td>E E E E e e e, the E...</td></tr><tr><td>summary_73</td><td>The European Union i...</td></tr><tr><td>summary_74</td><td>Eooo in the European...</td></tr><tr><td>summary_75</td><td>E E E E e e e E E H ...</td></tr><tr><td>summary_76</td><td>The European Union, ...</td></tr><tr><td>summary_77</td><td>The European Union, ...</td></tr><tr><td>summary_78</td><td>E E E E e e e E E H ...</td></tr><tr><td>summary_79</td><td>The European Union, ...</td></tr><tr><td>summary_8</td><td>The European Union, ...</td></tr><tr><td>summary_80</td><td>The European Union, ...</td></tr><tr><td>summary_81</td><td>The European Union, ...</td></tr><tr><td>summary_82</td><td>The European Union, ...</td></tr><tr><td>summary_83</td><td>The European Union, ...</td></tr><tr><td>summary_84</td><td>E E E E e e e, the E...</td></tr><tr><td>summary_85</td><td>EU in the European U...</td></tr><tr><td>summary_86</td><td>The European Union, ...</td></tr><tr><td>summary_87</td><td>E E E E e e e E e. T...</td></tr><tr><td>summary_88</td><td>The European Union, ...</td></tr><tr><td>summary_89</td><td>Eooo in the European...</td></tr><tr><td>summary_9</td><td>The European Union, ...</td></tr><tr><td>summary_90</td><td>E E E E Energy Energ...</td></tr><tr><td>summary_91</td><td>The European Union, ...</td></tr><tr><td>summary_92</td><td>Eooo in the European...</td></tr><tr><td>summary_93</td><td>The European Union, ...</td></tr><tr><td>summary_94</td><td>The European Union, ...</td></tr><tr><td>summary_95</td><td>E E E E e e e. The E...</td></tr><tr><td>summary_96</td><td>The European Union, ...</td></tr><tr><td>summary_97</td><td>E E E E e e e, in th...</td></tr><tr><td>summary_98</td><td>The European Fisheri...</td></tr><tr><td>summary_99</td><td>E E E E e e e, the E...</td></tr></table><br/></div></div>"
      ],
      "text/plain": [
       "<IPython.core.display.HTML object>"
      ]
     },
     "metadata": {},
     "output_type": "display_data"
    },
    {
     "data": {
      "text/html": [
       " View run <strong style=\"color:#cdcd00\">LegalBERT_BART_fixed_V1_quantized</strong> at: <a href='https://wandb.ai/unibe-tudi/summarization/runs/80c6f46m' target=\"_blank\">https://wandb.ai/unibe-tudi/summarization/runs/80c6f46m</a><br/> View project at: <a href='https://wandb.ai/unibe-tudi/summarization' target=\"_blank\">https://wandb.ai/unibe-tudi/summarization</a><br/>Synced 5 W&B file(s), 0 media file(s), 0 artifact file(s) and 0 other file(s)"
      ],
      "text/plain": [
       "<IPython.core.display.HTML object>"
      ]
     },
     "metadata": {},
     "output_type": "display_data"
    },
    {
     "data": {
      "text/html": [
       "Find logs at: <code>./wandb/run-20241216_143743-80c6f46m/logs</code>"
      ],
      "text/plain": [
       "<IPython.core.display.HTML object>"
      ]
     },
     "metadata": {},
     "output_type": "display_data"
    }
   ],
   "source": [
    "from transformers import AutoModelForSeq2SeqLM, AutoTokenizer\n",
    "from datasets import load_dataset\n",
    "from bitnet import replace_linears_in_hf\n",
    "from tqdm import tqdm \n",
    "import torch\n",
    "import wandb\n",
    "\n",
    "wandb.init(project=\"summarization\", name=\"LegalBERT_BART_fixed_V1_quantized\", config={\n",
    "    \"model_name\": \"MikaSie/LegalBERT_BART_fixed_V1\",\n",
    "    \"device\": \"cuda\" if torch.cuda.is_available() else \"cpu\",\n",
    "    \"max_length\": 150,\n",
    "    \"num_beams\": 4\n",
    "})\n",
    "\n",
    "# device = torch.device(\"cuda\" if torch.cuda.is_available() else \"cpu\")\n",
    "device = \"cpu\"\n",
    "\n",
    "tokenizer = AutoTokenizer.from_pretrained(model_name)\n",
    "model = AutoModelForSeq2SeqLM.from_pretrained(model_name)\n",
    "\n",
    "model_size = sum(t.numel() for t in model.parameters())\n",
    "print(f\"Model size before quantization: {model_size / 1000 ** 2:.1f}M parameters\")\n",
    "\n",
    "\n",
    "model = torch.quantization.quantize_dynamic( \n",
    "    model,                                 # Quantize the model for inference (dynamic quantization)\n",
    "    {torch.nn.Linear},                     # Quantize only the Linear layers for faster inference\n",
    "    dtype=torch.qint8                      # Use 8-bit integer quantization\n",
    ")\n",
    "\n",
    "model_size = sum(t.numel() for t in model.parameters())\n",
    "print(f\"Model size after quantization: {model_size / 1000 ** 2:.1f}M parameters\")\n",
    "\n",
    "model.to(device)\n",
    "\n",
    "data         = load_dataset(\"dennlinger/eur-lex-sum\", \"english\", trust_remote_code=True)\n",
    "texts        = data['test']['reference']\n",
    "gt_summaries = data['test']['summary']\n",
    "summaries    = []\n",
    "\n",
    "for idx, text in tqdm(enumerate(texts),total = len(texts)):\n",
    "\n",
    "    inputs = tokenizer(text, return_tensors=\"pt\", padding=True, truncation=True, max_length=CONTEXT_LENGTH).to(device)\n",
    "    \n",
    "    \n",
    "    model.eval()          # Evaluation mode \n",
    "    with torch.no_grad(): # Perform inference\n",
    "        outputs = model.generate(**inputs, max_length=CONTEXT_LENGTH, num_beams=4, early_stopping=True)\n",
    "    \n",
    "    summary = tokenizer.decode(outputs[0], skip_special_tokens=True)\n",
    "    summaries.append(summary)\n",
    "\n",
    "    wandb.log({\n",
    "        f\"summary_{idx + 1}\": summary,\n",
    "        f\"input_{idx + 1}\": text,\n",
    "        f\"length_of_summary_{idx + 1}\": len(summary.split())\n",
    "    })\n",
    "\n",
    "wandb.finish()"
   ]
  },
  {
   "cell_type": "code",
   "execution_count": 4,
   "metadata": {
    "execution": {
     "iopub.execute_input": "2024-12-16T15:25:19.000446Z",
     "iopub.status.busy": "2024-12-16T15:25:19.000117Z",
     "iopub.status.idle": "2024-12-16T15:25:27.970335Z",
     "shell.execute_reply": "2024-12-16T15:25:27.969124Z",
     "shell.execute_reply.started": "2024-12-16T15:25:19.000400Z"
    },
    "trusted": true
   },
   "outputs": [
    {
     "name": "stderr",
     "output_type": "stream",
     "text": [
      "huggingface/tokenizers: The current process just got forked, after parallelism has already been used. Disabling parallelism to avoid deadlocks...\n",
      "To disable this warning, you can either:\n",
      "\t- Avoid using `tokenizers` before the fork if possible\n",
      "\t- Explicitly set the environment variable TOKENIZERS_PARALLELISM=(true | false)\n"
     ]
    }
   ],
   "source": [
    "!pip install --quiet bert-score"
   ]
  },
  {
   "cell_type": "code",
   "execution_count": 5,
   "metadata": {
    "execution": {
     "iopub.execute_input": "2024-12-16T15:25:27.972461Z",
     "iopub.status.busy": "2024-12-16T15:25:27.972030Z",
     "iopub.status.idle": "2024-12-16T15:25:44.456577Z",
     "shell.execute_reply": "2024-12-16T15:25:44.455580Z",
     "shell.execute_reply.started": "2024-12-16T15:25:27.972422Z"
    },
    "trusted": true
   },
   "outputs": [
    {
     "data": {
      "application/vnd.jupyter.widget-view+json": {
       "model_id": "5a808387525141568caaab6c440d14ed",
       "version_major": 2,
       "version_minor": 0
      },
      "text/plain": [
       "tokenizer_config.json:   0%|          | 0.00/48.0 [00:00<?, ?B/s]"
      ]
     },
     "metadata": {},
     "output_type": "display_data"
    },
    {
     "data": {
      "application/vnd.jupyter.widget-view+json": {
       "model_id": "c4a9d346ee6a4884a8850e22aa5b0cf8",
       "version_major": 2,
       "version_minor": 0
      },
      "text/plain": [
       "config.json:   0%|          | 0.00/570 [00:00<?, ?B/s]"
      ]
     },
     "metadata": {},
     "output_type": "display_data"
    },
    {
     "data": {
      "application/vnd.jupyter.widget-view+json": {
       "model_id": "0dcdfa25067442168fdf5c23bb57b2d4",
       "version_major": 2,
       "version_minor": 0
      },
      "text/plain": [
       "vocab.txt:   0%|          | 0.00/232k [00:00<?, ?B/s]"
      ]
     },
     "metadata": {},
     "output_type": "display_data"
    },
    {
     "data": {
      "application/vnd.jupyter.widget-view+json": {
       "model_id": "fcbc083db0f345859191e9e3930fca9e",
       "version_major": 2,
       "version_minor": 0
      },
      "text/plain": [
       "tokenizer.json:   0%|          | 0.00/466k [00:00<?, ?B/s]"
      ]
     },
     "metadata": {},
     "output_type": "display_data"
    },
    {
     "data": {
      "application/vnd.jupyter.widget-view+json": {
       "model_id": "cd85c8bb516142a492ae3febe2f31163",
       "version_major": 2,
       "version_minor": 0
      },
      "text/plain": [
       "model.safetensors:   0%|          | 0.00/440M [00:00<?, ?B/s]"
      ]
     },
     "metadata": {},
     "output_type": "display_data"
    }
   ],
   "source": [
    "from bert_score import score\n",
    "\n",
    "P, R, F1 = score(summaries,gt_summaries, model_type=\"bert-base-uncased\", lang=\"en\")"
   ]
  },
  {
   "cell_type": "code",
   "execution_count": 6,
   "metadata": {
    "execution": {
     "iopub.execute_input": "2024-12-16T15:25:44.458071Z",
     "iopub.status.busy": "2024-12-16T15:25:44.457774Z",
     "iopub.status.idle": "2024-12-16T15:25:44.464862Z",
     "shell.execute_reply": "2024-12-16T15:25:44.464078Z",
     "shell.execute_reply.started": "2024-12-16T15:25:44.458012Z"
    },
    "trusted": true
   },
   "outputs": [
    {
     "name": "stdout",
     "output_type": "stream",
     "text": [
      "\n",
      "BERTScore Model Benchmark Results:\n",
      "Precision: Mean = 0.5185, Std = 0.0223\n",
      "Recall   : Mean = 0.4246, Std = 0.0172\n",
      "F1-score : Mean = 0.4246, Std = 0.0172\n"
     ]
    }
   ],
   "source": [
    "import numpy as np \n",
    "print(\"\\nBERTScore Model Benchmark Results:\")\n",
    "print(f\"Precision: Mean = {torch.mean(P):.4f}, Std = {torch.std(P):.4f}\")\n",
    "print(f\"Recall   : Mean = {torch.mean(R):.4f}, Std = {torch.std(R):.4f}\")\n",
    "print(f\"F1-score : Mean = {torch.mean(R):.4f}, Std = {torch.std(R):.4f}\")"
   ]
  },
  {
   "cell_type": "code",
   "execution_count": 7,
   "metadata": {
    "execution": {
     "iopub.execute_input": "2024-12-16T15:25:44.466502Z",
     "iopub.status.busy": "2024-12-16T15:25:44.465947Z",
     "iopub.status.idle": "2024-12-16T15:25:55.633990Z",
     "shell.execute_reply": "2024-12-16T15:25:55.633095Z",
     "shell.execute_reply.started": "2024-12-16T15:25:44.466473Z"
    },
    "trusted": true
   },
   "outputs": [
    {
     "name": "stderr",
     "output_type": "stream",
     "text": [
      "huggingface/tokenizers: The current process just got forked, after parallelism has already been used. Disabling parallelism to avoid deadlocks...\n",
      "To disable this warning, you can either:\n",
      "\t- Avoid using `tokenizers` before the fork if possible\n",
      "\t- Explicitly set the environment variable TOKENIZERS_PARALLELISM=(true | false)\n"
     ]
    }
   ],
   "source": [
    "!pip install --quiet rouge-score"
   ]
  },
  {
   "cell_type": "code",
   "execution_count": 8,
   "metadata": {
    "execution": {
     "iopub.execute_input": "2024-12-16T15:25:55.635773Z",
     "iopub.status.busy": "2024-12-16T15:25:55.635454Z",
     "iopub.status.idle": "2024-12-16T15:26:14.993396Z",
     "shell.execute_reply": "2024-12-16T15:26:14.992357Z",
     "shell.execute_reply.started": "2024-12-16T15:25:55.635746Z"
    },
    "trusted": true
   },
   "outputs": [
    {
     "name": "stderr",
     "output_type": "stream",
     "text": [
      "100%|██████████| 188/188 [00:18<00:00,  9.91it/s]"
     ]
    },
    {
     "name": "stdout",
     "output_type": "stream",
     "text": [
      "\n",
      "BitNet Model Full Precision Benchmark Results:\n",
      "ROUGE-1: Mean = 0.2370, Std = 0.0510\n",
      "ROUGE-2: Mean = 0.0687, Std = 0.0164\n",
      "ROUGE-L: Mean = 0.1546, Std = 0.0279\n"
     ]
    },
    {
     "name": "stderr",
     "output_type": "stream",
     "text": [
      "\n"
     ]
    }
   ],
   "source": [
    "from rouge_score import rouge_scorer\n",
    "from tqdm import tqdm \n",
    "\n",
    "scorer = rouge_scorer.RougeScorer(['rouge1', 'rouge2', 'rougeL'], use_stemmer=True)\n",
    "\n",
    "# Lists to store scores\n",
    "bitnet_rouge1_scores, bitnet_rouge2_scores, bitnet_rougeL_scores = [], [], []\n",
    "\n",
    "for summary, gt_summary in tqdm(zip(summaries, gt_summaries), total=len(summaries)):\n",
    "    # Generate summary\n",
    "    scores = scorer.score(gt_summary, summary)\n",
    "    bitnet_rouge1_scores.append(scores['rouge1'].fmeasure)\n",
    "    bitnet_rouge2_scores.append(scores['rouge2'].fmeasure)\n",
    "    bitnet_rougeL_scores.append(scores['rougeL'].fmeasure)\n",
    "\n",
    "    # Calculate BLEU score\n",
    "    reference = gt_summary.split()  # Tokenized reference summary\n",
    "    candidate = summary.split()  # Tokenized generated summary\n",
    "\n",
    "import numpy as np\n",
    "\n",
    "# Calculate mean and standard deviation for each metric\n",
    "bitnet_rouge1_mean, bitnet_rouge1_std = np.mean(bitnet_rouge1_scores), np.std(bitnet_rouge1_scores)\n",
    "bitnet_rouge2_mean, bitnet_rouge2_std = np.mean(bitnet_rouge2_scores), np.std(bitnet_rouge2_scores)\n",
    "bitnet_rougeL_mean, bitnet_rougeL_std = np.mean(bitnet_rougeL_scores), np.std(bitnet_rougeL_scores)\n",
    "\n",
    "print(\"\\nBitNet Model Full Precision Benchmark Results:\")\n",
    "print(f\"ROUGE-1: Mean = {bitnet_rouge1_mean:.4f}, Std = {bitnet_rouge1_std:.4f}\")\n",
    "print(f\"ROUGE-2: Mean = {bitnet_rouge2_mean:.4f}, Std = {bitnet_rouge2_std:.4f}\")\n",
    "print(f\"ROUGE-L: Mean = {bitnet_rougeL_mean:.4f}, Std = {bitnet_rougeL_std:.4f}\")"
   ]
  },
  {
   "cell_type": "markdown",
   "metadata": {},
   "source": [
    "# Baseline "
   ]
  },
  {
   "cell_type": "code",
   "execution_count": 9,
   "metadata": {
    "execution": {
     "iopub.execute_input": "2024-12-16T15:26:14.995124Z",
     "iopub.status.busy": "2024-12-16T15:26:14.994757Z",
     "iopub.status.idle": "2024-12-16T16:58:40.880598Z",
     "shell.execute_reply": "2024-12-16T16:58:40.879684Z",
     "shell.execute_reply.started": "2024-12-16T15:26:14.995091Z"
    },
    "trusted": true
   },
   "outputs": [
    {
     "name": "stderr",
     "output_type": "stream",
     "text": [
      "100%|██████████| 188/188 [1:32:24<00:00, 29.49s/it]\n"
     ]
    }
   ],
   "source": [
    "model = AutoModelForSeq2SeqLM.from_pretrained(model_name).to(device)\n",
    "summaries = [] \n",
    "for idx, text in tqdm(enumerate(texts),total = len(texts)):\n",
    "\n",
    "    inputs = tokenizer(text, return_tensors=\"pt\", padding=True, truncation=True, max_length=CONTEXT_LENGTH).to(device)\n",
    "    \n",
    "    model.eval()          # Evaluation mode \n",
    "    with torch.no_grad(): # Perform inference\n",
    "        outputs = model.generate(**inputs, max_length=CONTEXT_LENGTH, num_beams=4, early_stopping=True)\n",
    "    \n",
    "    summary = tokenizer.decode(outputs[0], skip_special_tokens=True)\n",
    "    summaries.append(summary)\n",
    "    \n",
    "    scores = scorer.score(gt_summary, summary)\n",
    "    bitnet_rouge1_scores.append(scores['rouge1'].fmeasure)\n",
    "    bitnet_rouge2_scores.append(scores['rouge2'].fmeasure)\n",
    "    bitnet_rougeL_scores.append(scores['rougeL'].fmeasure)\n",
    "\n",
    "    # Calculate BLEU score\n",
    "    reference = gt_summary.split()  # Tokenized reference summary\n",
    "    candidate = summary.split()  # Tokenized generated summary"
   ]
  },
  {
   "cell_type": "code",
   "execution_count": 14,
   "metadata": {
    "execution": {
     "iopub.execute_input": "2024-12-16T17:13:38.730615Z",
     "iopub.status.busy": "2024-12-16T17:13:38.730298Z",
     "iopub.status.idle": "2024-12-16T17:13:38.734551Z",
     "shell.execute_reply": "2024-12-16T17:13:38.733695Z",
     "shell.execute_reply.started": "2024-12-16T17:13:38.730584Z"
    },
    "trusted": true
   },
   "outputs": [],
   "source": [
    "summaries = summaries[-188:]"
   ]
  },
  {
   "cell_type": "code",
   "execution_count": 15,
   "metadata": {
    "execution": {
     "iopub.execute_input": "2024-12-16T17:13:41.029900Z",
     "iopub.status.busy": "2024-12-16T17:13:41.029570Z",
     "iopub.status.idle": "2024-12-16T17:13:54.430824Z",
     "shell.execute_reply": "2024-12-16T17:13:54.429899Z",
     "shell.execute_reply.started": "2024-12-16T17:13:41.029868Z"
    },
    "trusted": true
   },
   "outputs": [
    {
     "name": "stdout",
     "output_type": "stream",
     "text": [
      "\n",
      "BERTScore Model Benchmark Results:\n",
      "Precision: Mean = 0.6857, Std = 0.0358\n",
      "Recall   : Mean = 0.5825, Std = 0.0306\n",
      "F1-score : Mean = 0.5825, Std = 0.0306\n",
      "\n",
      "BitNet Model Full Precision Benchmark Results:\n",
      "ROUGE-1: Mean = 0.2105, Std = 0.0465\n",
      "ROUGE-2: Mean = 0.0633, Std = 0.0157\n",
      "ROUGE-L: Mean = 0.1323, Std = 0.0307\n"
     ]
    }
   ],
   "source": [
    "P, R, F1 = score(summaries,gt_summaries, model_type=\"bert-base-uncased\", lang=\"en\")\n",
    "print(\"\\nBERTScore Model Benchmark Results:\")\n",
    "print(f\"Precision: Mean = {torch.mean(P):.4f}, Std = {torch.std(P):.4f}\")\n",
    "print(f\"Recall   : Mean = {torch.mean(R):.4f}, Std = {torch.std(R):.4f}\")\n",
    "print(f\"F1-score : Mean = {torch.mean(R):.4f}, Std = {torch.std(R):.4f}\")\n",
    "\n",
    "# Calculate mean and standard deviation for each metric\n",
    "bitnet_rouge1_mean, bitnet_rouge1_std = np.mean(bitnet_rouge1_scores), np.std(bitnet_rouge1_scores)\n",
    "bitnet_rouge2_mean, bitnet_rouge2_std = np.mean(bitnet_rouge2_scores), np.std(bitnet_rouge2_scores)\n",
    "bitnet_rougeL_mean, bitnet_rougeL_std = np.mean(bitnet_rougeL_scores), np.std(bitnet_rougeL_scores)\n",
    "\n",
    "print(\"\\nBitNet Model Full Precision Benchmark Results:\")\n",
    "print(f\"ROUGE-1: Mean = {bitnet_rouge1_mean:.4f}, Std = {bitnet_rouge1_std:.4f}\")\n",
    "print(f\"ROUGE-2: Mean = {bitnet_rouge2_mean:.4f}, Std = {bitnet_rouge2_std:.4f}\")\n",
    "print(f\"ROUGE-L: Mean = {bitnet_rougeL_mean:.4f}, Std = {bitnet_rougeL_std:.4f}\")"
   ]
  },
  {
   "cell_type": "code",
   "execution_count": 16,
   "metadata": {
    "execution": {
     "iopub.execute_input": "2024-12-16T17:14:12.326716Z",
     "iopub.status.busy": "2024-12-16T17:14:12.326064Z",
     "iopub.status.idle": "2024-12-16T17:14:12.796360Z",
     "shell.execute_reply": "2024-12-16T17:14:12.795587Z",
     "shell.execute_reply.started": "2024-12-16T17:14:12.326680Z"
    },
    "trusted": true
   },
   "outputs": [
    {
     "data": {
      "image/png": "[encoded data removed]",
      "text/plain": [
       "<Figure size 1200x500 with 2 Axes>"
      ]
     },
     "metadata": {},
     "output_type": "display_data"
    }
   ],
   "source": [
    "import matplotlib.pyplot as plt\n",
    "import numpy as np\n",
    "\n",
    "# Data for BERTScore Model Benchmark Results\n",
    "bert_metrics = ['Precision', 'Recall', 'F1-score']\n",
    "bert_means = [0.6822, 0.5855, 0.5855]\n",
    "bert_stds = [0.0334, 0.0317, 0.0317]\n",
    "\n",
    "# Data for BERTScore QuantModel Benchmark Results\n",
    "quant_means = [0.5135, 0.4186, 0.4186]\n",
    "quant_stds = [0.0160, 0.0120, 0.0120]\n",
    "\n",
    "# Data for BitNet Model Full Precision Benchmark Results\n",
    "bitnet_metrics = ['ROUGE-1', 'ROUGE-2', 'ROUGE-L']\n",
    "bitnet_means = [0.1971, 0.0749, 0.1210]\n",
    "bitnet_stds = [0.0318, 0.0216, 0.0275]\n",
    "\n",
    "# Plotting the bar charts\n",
    "x = np.arange(len(bert_metrics))  # The label locations\n",
    "width = 0.35  # Width of the bars\n",
    "\n",
    "fig, axs = plt.subplots(1, 2, figsize=(12, 5), sharey=False)\n",
    "\n",
    "# BERTScore and QuantModel combined bar chart\n",
    "axs[0].bar(x - width/2, bert_means, width, yerr=bert_stds, capsize=5, color='skyblue', alpha=0.7, label='LegalBERT')\n",
    "axs[0].bar(x + width/2, quant_means, width, yerr=quant_stds, capsize=5, color='lightgreen', alpha=0.7, label='INT8 Quant LegalBERT')\n",
    "axs[0].set_title('BERTScore vs QuantModel Benchmark Results')\n",
    "axs[0].set_xticks(x)\n",
    "axs[0].set_xticklabels(bert_metrics)\n",
    "axs[0].set_ylabel('Score')\n",
    "axs[0].set_ylim(0, 1)\n",
    "axs[0].legend()\n",
    "\n",
    "# BitNet bar chart\n",
    "x_bitnet = np.arange(len(bitnet_metrics))\n",
    "axs[1].bar(x_bitnet, bitnet_means, yerr=bitnet_stds, capsize=5, color='salmon', alpha=0.7, label='Mean ± Std Dev')\n",
    "axs[1].set_title('BitNet Model Full Precision Benchmark Results')\n",
    "axs[1].set_xticks(x_bitnet)\n",
    "axs[1].set_xticklabels(bitnet_metrics)\n",
    "axs[1].set_ylim(0, 1)\n",
    "axs[1].legend()\n",
    "\n",
    "plt.tight_layout()\n",
    "plt.show()\n"
   ]
  },
  {
   "cell_type": "code",
   "execution_count": 20,
   "metadata": {
    "execution": {
     "iopub.execute_input": "2024-12-16T17:22:09.244313Z",
     "iopub.status.busy": "2024-12-16T17:22:09.243955Z",
     "iopub.status.idle": "2024-12-16T17:28:21.182957Z",
     "shell.execute_reply": "2024-12-16T17:28:21.182053Z",
     "shell.execute_reply.started": "2024-12-16T17:22:09.244284Z"
    },
    "trusted": true
   },
   "outputs": [
    {
     "data": {
      "image/png": "[encoded data removed]",
      "text/plain": [
       "<Figure size 1000x600 with 1 Axes>"
      ]
     },
     "metadata": {},
     "output_type": "display_data"
    }
   ],
   "source": [
    "import matplotlib.pyplot as plt \n",
    "import seaborn as sns \n",
    "\n",
    "layer_weights   = []\n",
    "baseline_model  = AutoModelForSeq2SeqLM.from_pretrained(model_name).to(device)\n",
    "quantized_model = model \n",
    "\n",
    "for (_, baseline_param), (_, quantized_param) in zip(baseline_model.named_parameters(),quantized_model.named_parameters()):\n",
    "    if baseline_param.requires_grad and quantized_param.requires_grad:\n",
    "        baseline_weights = baseline_param.data.flatten()\n",
    "        quantized_weights = quantized_param.data.flatten()\n",
    "        layer_weights.append((baseline_weights, quantized_weights))\n",
    "\n",
    "\n",
    "baseline_weights, quantized_weights = layer_weights[0]\n",
    "plt.figure(figsize=(10, 6))\n",
    "sns.histplot(quantized_weights.cpu().numpy(), color='orange', label='Quantized', kde=True, bins=50, alpha=0.6)\n",
    "sns.histplot(baseline_weights.cpu().numpy(), color='blue', label='Baseline', kde=True, bins=50, alpha=0.6)\n",
    "\n",
    "plt.title(f\"Weight Distribution for Layer\")\n",
    "plt.xlabel(\"Weight Value\")\n",
    "plt.ylabel(\"Density\")\n",
    "plt.legend()\n",
    "plt.show()"
   ]
  }
 ],
 "metadata": {
  "kaggle": {
   "accelerator": "nvidiaTeslaT4",
   "dataSources": [],
   "dockerImageVersionId": 30805,
   "isGpuEnabled": true,
   "isInternetEnabled": true,
   "language": "python",
   "sourceType": "notebook"
  },
  "kernelspec": {
   "display_name": "Python 3",
   "language": "python",
   "name": "python3"
  },
  "language_info": {
   "codemirror_mode": {
    "name": "ipython",
    "version": 3
   },
   "file_extension": ".py",
   "mimetype": "text/x-python",
   "name": "python",
   "nbconvert_exporter": "python",
   "pygments_lexer": "ipython3",
   "version": "3.10.14"
  }
 },
 "nbformat": 4,
 "nbformat_minor": 4
}
