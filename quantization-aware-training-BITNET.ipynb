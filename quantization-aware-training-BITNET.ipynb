{
 "cells": [
  {
   "cell_type": "code",
   "execution_count": 13,
   "metadata": {},
   "outputs": [],
   "source": [
    "import torch\n",
    "from transformers import AutoModelForSequenceClassification, AutoTokenizer\n",
    "from torch import Tensor\n",
    "from bitnet import replace_linears_in_hf\n",
    "import logging\n",
    "\n",
    "logging.getLogger('zeta.nn.modules.flow_transformer').setLevel(logging.WARNING)\n",
    "\n",
    "\n",
    "# Load a model from Hugging Face's Transformers\n",
    "model_name = \"bert-base-uncased\"\n",
    "tokenizer = AutoTokenizer.from_pretrained(model_name)\n",
    "model = AutoModelForSequenceClassification.from_pretrained(model_name)\n",
    "\n",
    "# Replace Linear layers with BitLinear\n",
    "replace_linears_in_hf(model)\n",
    "\n",
    "# Example text to classify\n",
    "text = \"Replace this with your text\"\n",
    "inputs = tokenizer(\n",
    "    text, return_tensors=\"pt\", padding=True, truncation=True, max_length=512\n",
    ")\n"
   ]
  },
  {
   "cell_type": "code",
   "execution_count": 14,
   "metadata": {},
   "outputs": [
    {
     "ename": "AttributeError",
     "evalue": "'SequenceClassifierOutput' object has no attribute 'to'",
     "output_type": "error",
     "traceback": [
      "\u001b[1;31m---------------------------------------------------------------------------\u001b[0m",
      "\u001b[1;31mAttributeError\u001b[0m                            Traceback (most recent call last)",
      "Cell \u001b[1;32mIn[14], line 4\u001b[0m\n\u001b[0;32m      2\u001b[0m model\u001b[38;5;241m.\u001b[39meval()  \u001b[38;5;66;03m# Set the model to evaluation mode\u001b[39;00m\n\u001b[0;32m      3\u001b[0m \u001b[38;5;28;01mwith\u001b[39;00m torch\u001b[38;5;241m.\u001b[39mno_grad():\n\u001b[1;32m----> 4\u001b[0m     outputs \u001b[38;5;241m=\u001b[39m \u001b[43mmodel\u001b[49m\u001b[43m(\u001b[49m\u001b[38;5;241;43m*\u001b[39;49m\u001b[38;5;241;43m*\u001b[39;49m\u001b[43minputs\u001b[49m\u001b[43m)\u001b[49m\u001b[38;5;241;43m.\u001b[39;49m\u001b[43mto\u001b[49m(torch\u001b[38;5;241m.\u001b[39mbfloat16)\n\u001b[0;32m      5\u001b[0m     \u001b[38;5;28mprint\u001b[39m(outputs\u001b[38;5;241m.\u001b[39mlogits\u001b[38;5;241m.\u001b[39mdtype)\n\u001b[0;32m      6\u001b[0m     predictions \u001b[38;5;241m=\u001b[39m torch\u001b[38;5;241m.\u001b[39mnn\u001b[38;5;241m.\u001b[39mfunctional\u001b[38;5;241m.\u001b[39msoftmax(outputs\u001b[38;5;241m.\u001b[39mlogits, dim\u001b[38;5;241m=\u001b[39m\u001b[38;5;241m-\u001b[39m\u001b[38;5;241m1\u001b[39m)\n",
      "\u001b[1;31mAttributeError\u001b[0m: 'SequenceClassifierOutput' object has no attribute 'to'"
     ]
    }
   ],
   "source": [
    "# Perform inference\n",
    "model.eval()  # Set the model to evaluation mode\n",
    "with torch.no_grad():\n",
    "    outputs = model(**inputs)\n",
    "    print(outputs.logits.dtype)\n",
    "    predictions = torch.nn.functional.softmax(outputs.logits, dim=-1)\n",
    "    print(predictions)\n",
    "\n",
    "# Process predictions\n",
    "predicted_class_id = predictions.argmax().item()\n",
    "print(f\"Predicted class ID: {predicted_class_id}\")\n",
    "\n",
    "# Optionally, map the predicted class ID to a label, if you know the classification labels\n",
    "# labels = [\"Label 1\", \"Label 2\", ...]  # Define your labels corresponding to the model's classes\n",
    "# print(f\"Predicted label: {labels[predicted_class_id]}\")"
   ]
  },
  {
   "cell_type": "code",
   "execution_count": null,
   "metadata": {},
   "outputs": [
    {
     "name": "stderr",
     "output_type": "stream",
     "text": [
      "c:\\Users\\tudor\\Documents\\BERN\\AN 2 SEM 2\\NLPs\\WORKSPACE_NLPs\\2024_Seminar_NLP_Project\\.venv\\Lib\\site-packages\\tqdm\\auto.py:21: TqdmWarning: IProgress not found. Please update jupyter and ipywidgets. See https://ipywidgets.readthedocs.io/en/stable/user_install.html\n",
      "  from .autonotebook import tqdm as notebook_tqdm\n"
     ]
    }
   ],
   "source": [
    "# from zeta.nn.modules.simple_rmsnorm import SimpleRMSNorm\n",
    "from transformers import DataCollatorForLanguageModeling,Trainer,TrainingArguments\n",
    "from transformers imtoport AutoModelForSeq2SeqLM, AutoTokenizer, AutoConfig\n",
    "from transformers.models.bert.modeling_bert import * \n",
    "import torch.nn.functional as F\n",
    "from torch import nn, Tensor\n",
    "from tqdm import tqdm \n",
    "import re"
   ]
  },
  {
   "cell_type": "code",
   "execution_count": 5,
   "metadata": {},
   "outputs": [],
   "source": [
    "MODEL_CONFIG        = \"MikaSie/LegalBERT_BART_fixed_V1\"\n",
    "CONTEXT_LENGTH      = 256\n",
    "tokenizer           = AutoTokenizer.from_pretrained(MODEL_CONFIG)\n",
    "HEADS               = 6\n",
    "DIMENSIONS          = 768\n",
    "LAYERS              = 6\n",
    "INTERMEDIATE_SIZE   = 1024\n",
    "CONTEXT_LENGTH      = 256\n",
    "\n",
    "device = torch.device(\"cuda\" if torch.cuda.is_available() else \"cpu\")\n",
    "\n",
    "config = AutoConfig.from_pretrained(\n",
    "    MODEL_CONFIG,\n",
    "    vocab_size=len(tokenizer),\n",
    "    n_ctx=CONTEXT_LENGTH,\n",
    "    bos_token_id=tokenizer.bos_token_id,\n",
    "    eos_token_id=tokenizer.eos_token_id,\n",
    ")\n",
    "\n",
    "config.hidden_size = DIMENSIONS\n",
    "config.max_position_embeddings = DIMENSIONS\n",
    "config.num_attention_heads = HEADS\n",
    "config.num_hidden_layers = LAYERS\n",
    "config.num_key_value_heads = HEADS\n",
    "config.intermediate_size = INTERMEDIATE_SIZE"
   ]
  },
  {
   "cell_type": "code",
   "execution_count": 6,
   "metadata": {},
   "outputs": [],
   "source": [
    "def convert_to_bitnet(model, copy_weights):\n",
    "    for name, module in model.named_modules():\n",
    "        # Replace linear layers with BitNet\n",
    "            for child_name, child_module in module.named_children():\n",
    "                if isinstance(child_module, nn.Linear):\n",
    "                    bitlinear = BitLinear(child_module.in_features,child_module.out_features,child_module.bias is not None,).to(device=device)\n",
    "                    if copy_weights:\n",
    "                        bitlinear.weight = child_module.weight\n",
    "                        if child_module.bias is not None:\n",
    "                            bitlinear.bias = child_module.bias\n",
    "                    setattr(module, child_name, bitlinear)"
   ]
  },
  {
   "cell_type": "code",
   "execution_count": 7,
   "metadata": {},
   "outputs": [
    {
     "name": "stdout",
     "output_type": "stream",
     "text": [
      "Model size: 406.3M parameters\n",
      "Model size: 457.8M parameters\n"
     ]
    }
   ],
   "source": [
    "# Create the llama model with our custom config. Convert it to bitnet.\n",
    "\n",
    "model = AutoModelForSeq2SeqLM.from_pretrained(MODEL_CONFIG)\n",
    "\n",
    "model_size = sum(t.numel() for t in model.parameters())\n",
    "print(f\"Model size: {model_size / 1000 ** 2:.1f}M parameters\")\n",
    "\n",
    "convert_to_bitnet(model, copy_weights=False)\n",
    "model_size = sum(t.numel() for t in model.parameters())\n",
    "print(f\"Model size: {model_size / 1000 ** 2:.1f}M parameters\")\n",
    "\n",
    "tokenizer.pad_token = tokenizer.eos_token\n",
    "data_collator = DataCollatorForLanguageModeling(tokenizer, mlm=False)"
   ]
  },
  {
   "cell_type": "code",
   "execution_count": 8,
   "metadata": {},
   "outputs": [],
   "source": [
    "BATCH_SIZE = 8\n",
    "LEARNING_RATE = 1.5e-3\n",
    "EPOCHS = 2"
   ]
  },
  {
   "cell_type": "code",
   "execution_count": 9,
   "metadata": {},
   "outputs": [],
   "source": [
    "def dataLoader(texts, gt_summaries):\n",
    "    data_loader = []\n",
    "    for ref, summary in zip(texts, gt_summaries):\n",
    "        data_loader.append({\n",
    "            \"reference\": ref,\n",
    "            \"summary\": summary\n",
    "        })\n",
    "    return data_loader\n",
    "\n",
    "def extract_references_and_summaries(file_path):\n",
    "    texts = []\n",
    "    gt_summaries = []\n",
    "\n",
    "    reference_pattern = re.compile(r'\"reference\"\\s*:\\s*\"([^\"]+)\"')\n",
    "    summary_pattern = re.compile(r'\"summary\"\\s*:\\s*\"([^\"]+)\"')\n",
    "\n",
    "    with open(file_path, 'r', encoding='utf-8') as file:\n",
    "        content = file.read()\n",
    "        texts.extend(reference_pattern.findall(content))\n",
    "        gt_summaries.extend(summary_pattern.findall(content))\n",
    "    return texts, gt_summaries\n",
    "\n",
    "def tokenize(element):\n",
    "    outputs = tokenizer(\n",
    "        element[\"text\"],\n",
    "        truncation=False,\n",
    "        max_length=CONTEXT_LENGTH,\n",
    "        return_overflowing_tokens=True,\n",
    "        return_length=True,\n",
    "    )\n",
    "    # Combine all tokens\n",
    "    combined = []\n",
    "    for tokenized_doc in outputs[\"input_ids\"]:\n",
    "        combined += tokenized_doc + [tokenizer.eos_token_id]\n",
    "    # Chunk\n",
    "    input_batch = []\n",
    "    for i in range(0, len(combined) - CONTEXT_LENGTH, CONTEXT_LENGTH):\n",
    "        input_batch.append(combined[i: i + CONTEXT_LENGTH])\n",
    "    return {\"input_ids\": input_batch}"
   ]
  },
  {
   "cell_type": "code",
   "execution_count": 10,
   "metadata": {},
   "outputs": [
    {
     "name": "stderr",
     "output_type": "stream",
     "text": [
      "Map: 100%|██████████| 1129/1129 [00:24<00:00, 46.86 examples/s]\n",
      "Map: 100%|██████████| 188/188 [00:06<00:00, 31.23 examples/s]\n"
     ]
    }
   ],
   "source": [
    "from datasets import Dataset, DatasetDict \n",
    "\n",
    "texts, gt_summaries = extract_references_and_summaries('resources/train.json')\n",
    "test_texts, test_summaries = extract_references_and_summaries('resources/test.json')\n",
    "data_train = Dataset.from_dict({\"text\": texts, \"summary\": gt_summaries})\n",
    "data_test = Dataset.from_dict({\"text\": test_texts, \"summary\": test_summaries})\n",
    "\n",
    "data = DatasetDict({\"train\": data_train,\"test\": data_test})\n",
    "\n",
    "tokenized_data = data.map(\n",
    "    tokenize,\n",
    "    batched=True,\n",
    "    remove_columns=data[\"train\"].column_names,\n",
    ")"
   ]
  },
  {
   "cell_type": "code",
   "execution_count": 16,
   "metadata": {},
   "outputs": [
    {
     "name": "stdout",
     "output_type": "stream",
     "text": [
      "Training on 15_153_664 tokens\n",
      "Training on 3_896_832 tokens\n"
     ]
    }
   ],
   "source": [
    "total_tokens = tokenized_data[\"train\"].num_rows * CONTEXT_LENGTH\n",
    "print(f\"Training on {total_tokens:_} tokens\")\n",
    "\n",
    "total_tokens = tokenized_data[\"test\"].num_rows * CONTEXT_LENGTH\n",
    "print(f\"Training on {total_tokens:_} tokens\")"
   ]
  },
  {
   "cell_type": "code",
   "execution_count": null,
   "metadata": {},
   "outputs": [],
   "source": [
    "summaries    = []\n",
    "\n",
    "for idx, text in tqdm(enumerate(texts),total = len(texts)):\n",
    "\n",
    "    inputs = tokenizer(text, return_tensors=\"pt\", padding=True, truncation=True, max_length=CONTEXT_LENGTH).to(device)\n",
    "    \n",
    "    \n",
    "    model.eval()          # Evaluation mode \n",
    "    with torch.no_grad(): # Perform inference\n",
    "        outputs = model.generate(**inputs, max_length=CONTEXT_LENGTH, num_beams=4, early_stopping=True)\n",
    "    \n",
    "    summary = tokenizer.decode(outputs[0], skip_special_tokens=True)\n",
    "    summaries.append(summary)"
   ]
  },
  {
   "cell_type": "code",
   "execution_count": null,
   "metadata": {},
   "outputs": [],
   "source": [
    "from bert_score import score\n",
    "\n",
    "P, R, F1 = score(summaries,gt_summaries, model_type=\"bert-base-uncased\", lang=\"en\")\n",
    "\n",
    "print(\"\\nBERTScore Model Benchmark Results:\")\n",
    "print(f\"Precision: Mean = {torch.mean(P):.4f}, Std = {torch.std(P):.4f}\")\n",
    "print(f\"Recall   : Mean = {torch.mean(R):.4f}, Std = {torch.std(R):.4f}\")\n",
    "print(f\"F1-score : Mean = {torch.mean(R):.4f}, Std = {torch.std(R):.4f}\")"
   ]
  },
  {
   "cell_type": "code",
   "execution_count": null,
   "metadata": {},
   "outputs": [],
   "source": [
    "output_path = \"./out\"\n",
    "args = TrainingArguments(\n",
    "    output_dir=output_path,\n",
    "    per_device_train_batch_size=BATCH_SIZE,\n",
    "    logging_steps=100,\n",
    "    gradient_accumulation_steps=2,\n",
    "    num_train_epochs=EPOCHS,\n",
    "    weight_decay=0.01,\n",
    "    warmup_steps=10,\n",
    "    lr_scheduler_type=\"cosine\",\n",
    "    learning_rate=LEARNING_RATE,\n",
    "    save_steps=0.25,\n",
    "    fp16=True,\n",
    "    report_to=\"wandb\",\n",
    ")\n",
    "\n",
    "trainer = Trainer(\n",
    "    model=model,\n",
    "    tokenizer=tokenizer,\n",
    "    args=args,\n",
    "    data_collator=data_collator,\n",
    "    train_dataset=tokenized_data[\"train\"],\n",
    ")\n",
    "\n",
    "trainer.train()"
   ]
  }
 ],
 "metadata": {
  "kernelspec": {
   "display_name": ".venv",
   "language": "python",
   "name": "python3"
  },
  "language_info": {
   "codemirror_mode": {
    "name": "ipython",
    "version": 3
   },
   "file_extension": ".py",
   "mimetype": "text/x-python",
   "name": "python",
   "nbconvert_exporter": "python",
   "pygments_lexer": "ipython3",
   "version": "3.12.1"
  }
 },
 "nbformat": 4,
 "nbformat_minor": 2
}
