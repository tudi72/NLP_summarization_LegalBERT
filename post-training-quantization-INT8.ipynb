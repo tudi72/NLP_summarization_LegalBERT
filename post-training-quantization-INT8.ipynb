{
 "cells": [
  {
   "cell_type": "code",
   "execution_count": null,
   "metadata": {
    "execution": {
     "iopub.execute_input": "2024-12-15T23:31:06.384752Z",
     "iopub.status.busy": "2024-12-15T23:31:06.384507Z",
     "iopub.status.idle": "2024-12-15T23:31:32.300303Z",
     "shell.execute_reply": "2024-12-15T23:31:32.299473Z",
     "shell.execute_reply.started": "2024-12-15T23:31:06.384727Z"
    },
    "trusted": true
   },
   "outputs": [],
   "source": [
    "!pip install --quiet bitnet"
   ]
  },
  {
   "cell_type": "code",
   "execution_count": null,
   "metadata": {
    "execution": {
     "iopub.execute_input": "2024-12-15T23:31:32.303165Z",
     "iopub.status.busy": "2024-12-15T23:31:32.302430Z",
     "iopub.status.idle": "2024-12-15T23:31:32.307351Z",
     "shell.execute_reply": "2024-12-15T23:31:32.306439Z",
     "shell.execute_reply.started": "2024-12-15T23:31:32.303120Z"
    },
    "trusted": true
   },
   "outputs": [],
   "source": [
    "from API import WANDB_TOKEN, HF_TOKEN\n",
    "\n",
    "DATASET           = \"dennlinger/eur-lex-sum\"\n",
    "model_name        = \"MikaSie/LegalBERT_BART_fixed_V1\"\n",
    "# model_name        = \"facebook/bart-large-cnn\" \n",
    "CONTEXT_LENGTH    = 256"
   ]
  },
  {
   "cell_type": "code",
   "execution_count": 17,
   "metadata": {
    "execution": {
     "iopub.execute_input": "2024-12-15T23:48:46.782107Z",
     "iopub.status.busy": "2024-12-15T23:48:46.781749Z",
     "iopub.status.idle": "2024-12-15T23:51:30.251032Z",
     "shell.execute_reply": "2024-12-15T23:51:30.250311Z",
     "shell.execute_reply.started": "2024-12-15T23:48:46.782078Z"
    },
    "trusted": true
   },
   "outputs": [
    {
     "name": "stderr",
     "output_type": "stream",
     "text": [
      "\u001b[34m\u001b[1mwandb\u001b[0m: Currently logged in as: \u001b[33mztudorita\u001b[0m (\u001b[33munibe-tudi\u001b[0m). Use \u001b[1m`wandb login --relogin`\u001b[0m to force relogin\n"
     ]
    },
    {
     "data": {
      "text/html": [
       "Tracking run with wandb version 0.18.7"
      ],
      "text/plain": [
       "<IPython.core.display.HTML object>"
      ]
     },
     "metadata": {},
     "output_type": "display_data"
    },
    {
     "data": {
      "text/html": [
       "Run data is saved locally in <code>/kaggle/working/wandb/run-20241215_234846-aatz2vq9</code>"
      ],
      "text/plain": [
       "<IPython.core.display.HTML object>"
      ]
     },
     "metadata": {},
     "output_type": "display_data"
    },
    {
     "data": {
      "text/html": [
       "Syncing run <strong><a href='https://wandb.ai/unibe-tudi/summarization/runs/aatz2vq9' target=\"_blank\">LegalBERT_BART_fixed_V1_quantized</a></strong> to <a href='https://wandb.ai/unibe-tudi/summarization' target=\"_blank\">Weights & Biases</a> (<a href='https://wandb.me/developer-guide' target=\"_blank\">docs</a>)<br/>"
      ],
      "text/plain": [
       "<IPython.core.display.HTML object>"
      ]
     },
     "metadata": {},
     "output_type": "display_data"
    },
    {
     "data": {
      "text/html": [
       " View project at <a href='https://wandb.ai/unibe-tudi/summarization' target=\"_blank\">https://wandb.ai/unibe-tudi/summarization</a>"
      ],
      "text/plain": [
       "<IPython.core.display.HTML object>"
      ]
     },
     "metadata": {},
     "output_type": "display_data"
    },
    {
     "data": {
      "text/html": [
       " View run at <a href='https://wandb.ai/unibe-tudi/summarization/runs/aatz2vq9' target=\"_blank\">https://wandb.ai/unibe-tudi/summarization/runs/aatz2vq9</a>"
      ],
      "text/plain": [
       "<IPython.core.display.HTML object>"
      ]
     },
     "metadata": {},
     "output_type": "display_data"
    },
    {
     "name": "stdout",
     "output_type": "stream",
     "text": [
      "Model size before quantization: 406.3M parameters\n",
      "Model size after quantization: 53.7M parameters\n"
     ]
    },
    {
     "name": "stderr",
     "output_type": "stream",
     "text": [
      "100%|██████████| 10/10 [02:32<00:00, 15.21s/it]\n"
     ]
    },
    {
     "data": {
      "text/html": [
       "\n",
       "    <style>\n",
       "        .wandb-row {\n",
       "            display: flex;\n",
       "            flex-direction: row;\n",
       "            flex-wrap: wrap;\n",
       "            justify-content: flex-start;\n",
       "            width: 100%;\n",
       "        }\n",
       "        .wandb-col {\n",
       "            display: flex;\n",
       "            flex-direction: column;\n",
       "            flex-basis: 100%;\n",
       "            flex: 1;\n",
       "            padding: 10px;\n",
       "        }\n",
       "    </style>\n",
       "<div class=\"wandb-row\"><div class=\"wandb-col\"><h3>Run history:</h3><br/><table class=\"wandb\"><tr><td>length_of_summary_1</td><td>▁</td></tr><tr><td>length_of_summary_10</td><td>▁</td></tr><tr><td>length_of_summary_2</td><td>▁</td></tr><tr><td>length_of_summary_3</td><td>▁</td></tr><tr><td>length_of_summary_4</td><td>▁</td></tr><tr><td>length_of_summary_5</td><td>▁</td></tr><tr><td>length_of_summary_6</td><td>▁</td></tr><tr><td>length_of_summary_7</td><td>▁</td></tr><tr><td>length_of_summary_8</td><td>▁</td></tr><tr><td>length_of_summary_9</td><td>▁</td></tr></table><br/></div><div class=\"wandb-col\"><h3>Run summary:</h3><br/><table class=\"wandb\"><tr><td>input_1</td><td>12.7.2019\n",
       "EN\n",
       "Officia...</td></tr><tr><td>input_10</td><td>11.5.2021\n",
       "EN\n",
       "Officia...</td></tr><tr><td>input_2</td><td>25.6.2019\n",
       "EN\n",
       "Officia...</td></tr><tr><td>input_3</td><td>17.5.2019\n",
       "EN\n",
       "Officia...</td></tr><tr><td>input_4</td><td>29.3.2019\n",
       "EN\n",
       "Officia...</td></tr><tr><td>input_5</td><td>29.3.2019\n",
       "EN\n",
       "Officia...</td></tr><tr><td>input_6</td><td>14.7.2021\n",
       "EN\n",
       "Officia...</td></tr><tr><td>input_7</td><td>17.5.2021\n",
       "EN\n",
       "Officia...</td></tr><tr><td>input_8</td><td>12.5.2021\n",
       "EN\n",
       "Officia...</td></tr><tr><td>input_9</td><td>12.5.2021\n",
       "EN\n",
       "Officia...</td></tr><tr><td>length_of_summary_1</td><td>202</td></tr><tr><td>length_of_summary_10</td><td>216</td></tr><tr><td>length_of_summary_2</td><td>208</td></tr><tr><td>length_of_summary_3</td><td>211</td></tr><tr><td>length_of_summary_4</td><td>222</td></tr><tr><td>length_of_summary_5</td><td>221</td></tr><tr><td>length_of_summary_6</td><td>226</td></tr><tr><td>length_of_summary_7</td><td>222</td></tr><tr><td>length_of_summary_8</td><td>221</td></tr><tr><td>length_of_summary_9</td><td>223</td></tr><tr><td>summary_1</td><td>E E E E e e e E E H ...</td></tr><tr><td>summary_10</td><td>The European Union, ...</td></tr><tr><td>summary_2</td><td>The European Union i...</td></tr><tr><td>summary_3</td><td>The European Union i...</td></tr><tr><td>summary_4</td><td>The European Union i...</td></tr><tr><td>summary_5</td><td>The European Europea...</td></tr><tr><td>summary_6</td><td>The European Union o...</td></tr><tr><td>summary_7</td><td>E E E E e e e E E. T...</td></tr><tr><td>summary_8</td><td>The European Union, ...</td></tr><tr><td>summary_9</td><td>The European Union, ...</td></tr></table><br/></div></div>"
      ],
      "text/plain": [
       "<IPython.core.display.HTML object>"
      ]
     },
     "metadata": {},
     "output_type": "display_data"
    },
    {
     "data": {
      "text/html": [
       " View run <strong style=\"color:#cdcd00\">LegalBERT_BART_fixed_V1_quantized</strong> at: <a href='https://wandb.ai/unibe-tudi/summarization/runs/aatz2vq9' target=\"_blank\">https://wandb.ai/unibe-tudi/summarization/runs/aatz2vq9</a><br/> View project at: <a href='https://wandb.ai/unibe-tudi/summarization' target=\"_blank\">https://wandb.ai/unibe-tudi/summarization</a><br/>Synced 5 W&B file(s), 0 media file(s), 0 artifact file(s) and 0 other file(s)"
      ],
      "text/plain": [
       "<IPython.core.display.HTML object>"
      ]
     },
     "metadata": {},
     "output_type": "display_data"
    },
    {
     "data": {
      "text/html": [
       "Find logs at: <code>./wandb/run-20241215_234846-aatz2vq9/logs</code>"
      ],
      "text/plain": [
       "<IPython.core.display.HTML object>"
      ]
     },
     "metadata": {},
     "output_type": "display_data"
    }
   ],
   "source": [
    "from transformers import AutoModelForSeq2SeqLM, AutoTokenizer\n",
    "from datasets import load_dataset\n",
    "from bitnet import replace_linears_in_hf\n",
    "from tqdm import tqdm \n",
    "import torch\n",
    "import wandb\n",
    "\n",
    "wandb.init(project=\"summarization\", name=\"LegalBERT_BART_fixed_V1_quantized\", config={\n",
    "    \"model_name\": \"MikaSie/LegalBERT_BART_fixed_V1\",\n",
    "    \"device\": \"cuda\" if torch.cuda.is_available() else \"cpu\",\n",
    "    \"max_length\": 150,\n",
    "    \"num_beams\": 4\n",
    "})\n",
    "\n",
    "# device = torch.device(\"cuda\" if torch.cuda.is_available() else \"cpu\")\n",
    "device = \"cpu\"\n",
    "\n",
    "tokenizer = AutoTokenizer.from_pretrained(model_name)\n",
    "model = AutoModelForSeq2SeqLM.from_pretrained(model_name)\n",
    "\n",
    "model_size = sum(t.numel() for t in model.parameters())\n",
    "print(f\"Model size before quantization: {model_size / 1000 ** 2:.1f}M parameters\")\n",
    "\n",
    "\n",
    "model = torch.quantization.quantize_dynamic( \n",
    "    model,                                 # Quantize the model for inference (dynamic quantization)\n",
    "    {torch.nn.Linear},                     # Quantize only the Linear layers for faster inference\n",
    "    dtype=torch.qint8                      # Use 8-bit integer quantization\n",
    ")\n",
    "\n",
    "model_size = sum(t.numel() for t in model.parameters())\n",
    "print(f\"Model size after quantization: {model_size / 1000 ** 2:.1f}M parameters\")\n",
    "\n",
    "model.to(device)\n",
    "\n",
    "data         = load_dataset(\"dennlinger/eur-lex-sum\", \"english\", trust_remote_code=True)\n",
    "texts        = data['test']['reference'][:10]\n",
    "gt_summaries = data['test']['summary'][:10]\n",
    "summaries    = []\n",
    "\n",
    "for idx, text in tqdm(enumerate(texts),total = len(texts)):\n",
    "\n",
    "    inputs = tokenizer(text, return_tensors=\"pt\", padding=True, truncation=True, max_length=CONTEXT_LENGTH).to(device)\n",
    "    \n",
    "    \n",
    "    model.eval()          # Evaluation mode \n",
    "    with torch.no_grad(): # Perform inference\n",
    "        outputs = model.generate(**inputs, max_length=CONTEXT_LENGTH, num_beams=4, early_stopping=True)\n",
    "    \n",
    "    summary = tokenizer.decode(outputs[0], skip_special_tokens=True)\n",
    "    summaries.append(summary)\n",
    "\n",
    "    wandb.log({\n",
    "        f\"summary_{idx + 1}\": summary,\n",
    "        f\"input_{idx + 1}\": text,\n",
    "        f\"length_of_summary_{idx + 1}\": len(summary.split())\n",
    "    })\n",
    "\n",
    "wandb.finish()"
   ]
  },
  {
   "cell_type": "code",
   "execution_count": 18,
   "metadata": {
    "execution": {
     "iopub.execute_input": "2024-12-15T23:52:10.380759Z",
     "iopub.status.busy": "2024-12-15T23:52:10.380399Z",
     "iopub.status.idle": "2024-12-15T23:52:18.704180Z",
     "shell.execute_reply": "2024-12-15T23:52:18.703251Z",
     "shell.execute_reply.started": "2024-12-15T23:52:10.380726Z"
    },
    "trusted": true
   },
   "outputs": [
    {
     "name": "stderr",
     "output_type": "stream",
     "text": [
      "huggingface/tokenizers: The current process just got forked, after parallelism has already been used. Disabling parallelism to avoid deadlocks...\n",
      "To disable this warning, you can either:\n",
      "\t- Avoid using `tokenizers` before the fork if possible\n",
      "\t- Explicitly set the environment variable TOKENIZERS_PARALLELISM=(true | false)\n"
     ]
    }
   ],
   "source": [
    "!pip install --quiet bert-score"
   ]
  },
  {
   "cell_type": "code",
   "execution_count": 19,
   "metadata": {
    "execution": {
     "iopub.execute_input": "2024-12-15T23:52:18.706582Z",
     "iopub.status.busy": "2024-12-15T23:52:18.706263Z",
     "iopub.status.idle": "2024-12-15T23:52:19.943394Z",
     "shell.execute_reply": "2024-12-15T23:52:19.942657Z",
     "shell.execute_reply.started": "2024-12-15T23:52:18.706554Z"
    },
    "trusted": true
   },
   "outputs": [],
   "source": [
    "from bert_score import score\n",
    "\n",
    "P, R, F1 = score(summaries,gt_summaries, model_type=\"bert-base-uncased\", lang=\"en\")"
   ]
  },
  {
   "cell_type": "code",
   "execution_count": 20,
   "metadata": {
    "execution": {
     "iopub.execute_input": "2024-12-15T23:52:19.944869Z",
     "iopub.status.busy": "2024-12-15T23:52:19.944592Z",
     "iopub.status.idle": "2024-12-15T23:52:19.950599Z",
     "shell.execute_reply": "2024-12-15T23:52:19.949668Z",
     "shell.execute_reply.started": "2024-12-15T23:52:19.944843Z"
    },
    "trusted": true
   },
   "outputs": [
    {
     "name": "stdout",
     "output_type": "stream",
     "text": [
      "\n",
      "BERTScore Model Benchmark Results:\n",
      "Precision: Mean = 0.5135, Std = 0.0160\n",
      "Recall   : Mean = 0.4186, Std = 0.0120\n",
      "F1-score : Mean = 0.4186, Std = 0.0120\n"
     ]
    }
   ],
   "source": [
    "import numpy as np \n",
    "print(\"\\nBERTScore Model Benchmark Results:\")\n",
    "print(f\"Precision: Mean = {torch.mean(P):.4f}, Std = {torch.std(P):.4f}\")\n",
    "print(f\"Recall   : Mean = {torch.mean(R):.4f}, Std = {torch.std(R):.4f}\")\n",
    "print(f\"F1-score : Mean = {torch.mean(R):.4f}, Std = {torch.std(R):.4f}\")"
   ]
  },
  {
   "cell_type": "code",
   "execution_count": 21,
   "metadata": {
    "execution": {
     "iopub.execute_input": "2024-12-15T23:52:19.952654Z",
     "iopub.status.busy": "2024-12-15T23:52:19.952391Z",
     "iopub.status.idle": "2024-12-15T23:52:28.079406Z",
     "shell.execute_reply": "2024-12-15T23:52:28.078414Z",
     "shell.execute_reply.started": "2024-12-15T23:52:19.952630Z"
    },
    "trusted": true
   },
   "outputs": [
    {
     "name": "stderr",
     "output_type": "stream",
     "text": [
      "huggingface/tokenizers: The current process just got forked, after parallelism has already been used. Disabling parallelism to avoid deadlocks...\n",
      "To disable this warning, you can either:\n",
      "\t- Avoid using `tokenizers` before the fork if possible\n",
      "\t- Explicitly set the environment variable TOKENIZERS_PARALLELISM=(true | false)\n"
     ]
    }
   ],
   "source": [
    "!pip install --quiet rouge-score"
   ]
  },
  {
   "cell_type": "code",
   "execution_count": 22,
   "metadata": {
    "execution": {
     "iopub.execute_input": "2024-12-15T23:52:28.081207Z",
     "iopub.status.busy": "2024-12-15T23:52:28.080880Z",
     "iopub.status.idle": "2024-12-15T23:52:29.260690Z",
     "shell.execute_reply": "2024-12-15T23:52:29.259806Z",
     "shell.execute_reply.started": "2024-12-15T23:52:28.081168Z"
    },
    "trusted": true
   },
   "outputs": [
    {
     "name": "stderr",
     "output_type": "stream",
     "text": [
      "100%|██████████| 10/10 [00:01<00:00,  8.57it/s]"
     ]
    },
    {
     "name": "stdout",
     "output_type": "stream",
     "text": [
      "\n",
      "BitNet Model Full Precision Benchmark Results:\n",
      "ROUGE-1: Mean = 0.2084, Std = 0.0376\n",
      "ROUGE-2: Mean = 0.0699, Std = 0.0167\n",
      "ROUGE-L: Mean = 0.1401, Std = 0.0258\n"
     ]
    },
    {
     "name": "stderr",
     "output_type": "stream",
     "text": [
      "\n"
     ]
    }
   ],
   "source": [
    "from rouge_score import rouge_scorer\n",
    "from tqdm import tqdm \n",
    "\n",
    "scorer = rouge_scorer.RougeScorer(['rouge1', 'rouge2', 'rougeL'], use_stemmer=True)\n",
    "\n",
    "# Lists to store scores\n",
    "bitnet_rouge1_scores, bitnet_rouge2_scores, bitnet_rougeL_scores = [], [], []\n",
    "\n",
    "for summary, gt_summary in tqdm(zip(summaries, gt_summaries), total=len(summaries)):\n",
    "    # Generate summary\n",
    "    scores = scorer.score(gt_summary, summary)\n",
    "    bitnet_rouge1_scores.append(scores['rouge1'].fmeasure)\n",
    "    bitnet_rouge2_scores.append(scores['rouge2'].fmeasure)\n",
    "    bitnet_rougeL_scores.append(scores['rougeL'].fmeasure)\n",
    "\n",
    "    # Calculate BLEU score\n",
    "    reference = gt_summary.split()  # Tokenized reference summary\n",
    "    candidate = summary.split()  # Tokenized generated summary\n",
    "\n",
    "import numpy as np\n",
    "\n",
    "# Calculate mean and standard deviation for each metric\n",
    "bitnet_rouge1_mean, bitnet_rouge1_std = np.mean(bitnet_rouge1_scores), np.std(bitnet_rouge1_scores)\n",
    "bitnet_rouge2_mean, bitnet_rouge2_std = np.mean(bitnet_rouge2_scores), np.std(bitnet_rouge2_scores)\n",
    "bitnet_rougeL_mean, bitnet_rougeL_std = np.mean(bitnet_rougeL_scores), np.std(bitnet_rougeL_scores)\n",
    "\n",
    "print(\"\\nBitNet Model Full Precision Benchmark Results:\")\n",
    "print(f\"ROUGE-1: Mean = {bitnet_rouge1_mean:.4f}, Std = {bitnet_rouge1_std:.4f}\")\n",
    "print(f\"ROUGE-2: Mean = {bitnet_rouge2_mean:.4f}, Std = {bitnet_rouge2_std:.4f}\")\n",
    "print(f\"ROUGE-L: Mean = {bitnet_rougeL_mean:.4f}, Std = {bitnet_rougeL_std:.4f}\")"
   ]
  },
  {
   "cell_type": "markdown",
   "metadata": {},
   "source": [
    "# Baseline "
   ]
  },
  {
   "cell_type": "code",
   "execution_count": null,
   "metadata": {
    "trusted": true
   },
   "outputs": [],
   "source": [
    "model = AutoModelForSeq2SeqLM.from_pretrained(model_name).to(device)\n",
    "\n",
    "for idx, text in tqdm(enumerate(texts),total = len(texts)):\n",
    "\n",
    "    inputs = tokenizer(text, return_tensors=\"pt\", padding=True, truncation=True, max_length=CONTEXT_LENGTH).to(device)\n",
    "    \n",
    "    model.eval()          # Evaluation mode \n",
    "    with torch.no_grad(): # Perform inference\n",
    "        outputs = model.generate(**inputs, max_length=CONTEXT_LENGTH, num_beams=4, early_stopping=True)\n",
    "    \n",
    "    summary = tokenizer.decode(outputs[0], skip_special_tokens=True)\n",
    "    summaries.append(summary)\n",
    "    \n",
    "    scores = scorer.score(gt_summary, summary)\n",
    "    bitnet_rouge1_scores.append(scores['rouge1'].fmeasure)\n",
    "    bitnet_rouge2_scores.append(scores['rouge2'].fmeasure)\n",
    "    bitnet_rougeL_scores.append(scores['rougeL'].fmeasure)\n",
    "\n",
    "    # Calculate BLEU score\n",
    "    reference = gt_summary.split()  # Tokenized reference summary\n",
    "    candidate = summary.split()  # Tokenized generated summary"
   ]
  },
  {
   "cell_type": "code",
   "execution_count": 28,
   "metadata": {
    "execution": {
     "iopub.execute_input": "2024-12-16T00:34:26.442694Z",
     "iopub.status.busy": "2024-12-16T00:34:26.442340Z",
     "iopub.status.idle": "2024-12-16T00:34:27.698707Z",
     "shell.execute_reply": "2024-12-16T00:34:27.697844Z",
     "shell.execute_reply.started": "2024-12-16T00:34:26.442665Z"
    },
    "trusted": true
   },
   "outputs": [
    {
     "name": "stdout",
     "output_type": "stream",
     "text": [
      "\n",
      "BERTScore Model Benchmark Results:\n",
      "Precision: Mean = 0.6822, Std = 0.0334\n",
      "Recall   : Mean = 0.5855, Std = 0.0317\n",
      "F1-score : Mean = 0.5855, Std = 0.0317\n",
      "\n",
      "BitNet Model Full Precision Benchmark Results:\n",
      "ROUGE-1: Mean = 0.1971, Std = 0.0318\n",
      "ROUGE-2: Mean = 0.0749, Std = 0.0216\n",
      "ROUGE-L: Mean = 0.1210, Std = 0.0275\n"
     ]
    }
   ],
   "source": [
    "P, R, F1 = score(summaries,gt_summaries, model_type=\"bert-base-uncased\", lang=\"en\")\n",
    "print(\"\\nBERTScore Model Benchmark Results:\")\n",
    "print(f\"Precision: Mean = {torch.mean(P):.4f}, Std = {torch.std(P):.4f}\")\n",
    "print(f\"Recall   : Mean = {torch.mean(R):.4f}, Std = {torch.std(R):.4f}\")\n",
    "print(f\"F1-score : Mean = {torch.mean(R):.4f}, Std = {torch.std(R):.4f}\")\n",
    "\n",
    "# Calculate mean and standard deviation for each metric\n",
    "bitnet_rouge1_mean, bitnet_rouge1_std = np.mean(bitnet_rouge1_scores), np.std(bitnet_rouge1_scores)\n",
    "bitnet_rouge2_mean, bitnet_rouge2_std = np.mean(bitnet_rouge2_scores), np.std(bitnet_rouge2_scores)\n",
    "bitnet_rougeL_mean, bitnet_rougeL_std = np.mean(bitnet_rougeL_scores), np.std(bitnet_rougeL_scores)\n",
    "\n",
    "print(\"\\nBitNet Model Full Precision Benchmark Results:\")\n",
    "print(f\"ROUGE-1: Mean = {bitnet_rouge1_mean:.4f}, Std = {bitnet_rouge1_std:.4f}\")\n",
    "print(f\"ROUGE-2: Mean = {bitnet_rouge2_mean:.4f}, Std = {bitnet_rouge2_std:.4f}\")\n",
    "print(f\"ROUGE-L: Mean = {bitnet_rougeL_mean:.4f}, Std = {bitnet_rougeL_std:.4f}\")"
   ]
  },
  {
   "cell_type": "code",
   "execution_count": 34,
   "metadata": {
    "execution": {
     "iopub.execute_input": "2024-12-16T00:43:13.187807Z",
     "iopub.status.busy": "2024-12-16T00:43:13.187461Z",
     "iopub.status.idle": "2024-12-16T00:43:13.603522Z",
     "shell.execute_reply": "2024-12-16T00:43:13.602631Z",
     "shell.execute_reply.started": "2024-12-16T00:43:13.187781Z"
    },
    "trusted": true
   },
   "outputs": [
    {
     "data": {
      "image/png": "[encoded data removed]",
      "text/plain": [
       "<Figure size 1200x500 with 2 Axes>"
      ]
     },
     "metadata": {},
     "output_type": "display_data"
    }
   ],
   "source": [
    "import matplotlib.pyplot as plt\n",
    "import numpy as np\n",
    "\n",
    "# Data for BERTScore Model Benchmark Results\n",
    "bert_metrics = ['Precision', 'Recall', 'F1-score']\n",
    "bert_means = [0.6822, 0.5855, 0.5855]\n",
    "bert_stds = [0.0334, 0.0317, 0.0317]\n",
    "\n",
    "# Data for BERTScore QuantModel Benchmark Results\n",
    "quant_means = [0.5135, 0.4186, 0.4186]\n",
    "quant_stds = [0.0160, 0.0120, 0.0120]\n",
    "\n",
    "# Data for BitNet Model Full Precision Benchmark Results\n",
    "bitnet_metrics = ['ROUGE-1', 'ROUGE-2', 'ROUGE-L']\n",
    "bitnet_means = [0.1971, 0.0749, 0.1210]\n",
    "bitnet_stds = [0.0318, 0.0216, 0.0275]\n",
    "\n",
    "# Plotting the bar charts\n",
    "x = np.arange(len(bert_metrics))  # The label locations\n",
    "width = 0.35  # Width of the bars\n",
    "\n",
    "fig, axs = plt.subplots(1, 2, figsize=(12, 5), sharey=False)\n",
    "\n",
    "# BERTScore and QuantModel combined bar chart\n",
    "axs[0].bar(x - width/2, bert_means, width, yerr=bert_stds, capsize=5, color='skyblue', alpha=0.7, label='LegalBERT')\n",
    "axs[0].bar(x + width/2, quant_means, width, yerr=quant_stds, capsize=5, color='lightgreen', alpha=0.7, label='INT8 Quant LegalBERT')\n",
    "axs[0].set_title('BERTScore vs QuantModel Benchmark Results')\n",
    "axs[0].set_xticks(x)\n",
    "axs[0].set_xticklabels(bert_metrics)\n",
    "axs[0].set_ylabel('Score')\n",
    "axs[0].set_ylim(0, 1)\n",
    "axs[0].legend()\n",
    "\n",
    "# BitNet bar chart\n",
    "x_bitnet = np.arange(len(bitnet_metrics))\n",
    "axs[1].bar(x_bitnet, bitnet_means, yerr=bitnet_stds, capsize=5, color='salmon', alpha=0.7, label='Mean ± Std Dev')\n",
    "axs[1].set_title('BitNet Model Full Precision Benchmark Results')\n",
    "axs[1].set_xticks(x_bitnet)\n",
    "axs[1].set_xticklabels(bitnet_metrics)\n",
    "axs[1].set_ylim(0, 1)\n",
    "axs[1].legend()\n",
    "\n",
    "plt.tight_layout()\n",
    "plt.show()\n"
   ]
  }
 ],
 "metadata": {
  "kaggle": {
   "accelerator": "nvidiaTeslaT4",
   "dataSources": [],
   "dockerImageVersionId": 30805,
   "isGpuEnabled": true,
   "isInternetEnabled": true,
   "language": "python",
   "sourceType": "notebook"
  },
  "kernelspec": {
   "display_name": "Python 3",
   "language": "python",
   "name": "python3"
  },
  "language_info": {
   "codemirror_mode": {
    "name": "ipython",
    "version": 3
   },
   "file_extension": ".py",
   "mimetype": "text/x-python",
   "name": "python",
   "nbconvert_exporter": "python",
   "pygments_lexer": "ipython3",
   "version": "3.10.14"
  }
 },
 "nbformat": 4,
 "nbformat_minor": 4
}
